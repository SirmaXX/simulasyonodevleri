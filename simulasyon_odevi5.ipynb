{
 "cells": [
  {
   "cell_type": "markdown",
   "metadata": {
    "id": "k8TCvVPPoXSQ"
   },
   "source": [
    "# <center> DENİZ BALCI SİMÜLASYON 5.ÖDEVİ</center>"
   ]
  },
  {
   "cell_type": "markdown",
   "metadata": {
    "id": "11fnsPxpoXST"
   },
   "source": [
    "# 1)  Paket Kurulumu ve Ön açıklama"
   ]
  },
  {
   "cell_type": "markdown",
   "metadata": {
    "id": "Szkz7yuIoXSU"
   },
   "source": [
    "Bütün hücreleri ayrı ayrı veya bütün halde çalıştırabilirsiniz.İlk olarak paketleri yükleyelim."
   ]
  },
  {
   "cell_type": "code",
   "execution_count": 2,
   "metadata": {
    "id": "2_1XpcxDoXSV",
    "outputId": "574e36d5-9ce1-4fbb-951d-1725fd98b252"
   },
   "outputs": [
    {
     "name": "stdout",
     "output_type": "stream",
     "text": [
      "Defaulting to user installation because normal site-packages is not writeable\n",
      "Requirement already satisfied: scipy in /home/deniz/.local/lib/python3.10/site-packages (1.10.1)\n",
      "Requirement already satisfied: numpy<1.27.0,>=1.19.5 in /home/deniz/.local/lib/python3.10/site-packages (from scipy) (1.26.4)\n",
      "Defaulting to user installation because normal site-packages is not writeable\n",
      "Requirement already satisfied: numpy in /home/deniz/.local/lib/python3.10/site-packages (1.26.4)\n",
      "Defaulting to user installation because normal site-packages is not writeable\n",
      "Requirement already satisfied: matplotlib in /home/deniz/.local/lib/python3.10/site-packages (3.7.1)\n",
      "Requirement already satisfied: contourpy>=1.0.1 in /home/deniz/.local/lib/python3.10/site-packages (from matplotlib) (1.0.7)\n",
      "Requirement already satisfied: cycler>=0.10 in /home/deniz/.local/lib/python3.10/site-packages (from matplotlib) (0.11.0)\n",
      "Requirement already satisfied: fonttools>=4.22.0 in /home/deniz/.local/lib/python3.10/site-packages (from matplotlib) (4.39.4)\n",
      "Requirement already satisfied: kiwisolver>=1.0.1 in /home/deniz/.local/lib/python3.10/site-packages (from matplotlib) (1.4.4)\n",
      "Requirement already satisfied: numpy>=1.20 in /home/deniz/.local/lib/python3.10/site-packages (from matplotlib) (1.26.4)\n",
      "Requirement already satisfied: packaging>=20.0 in /home/deniz/.local/lib/python3.10/site-packages (from matplotlib) (23.0)\n",
      "Requirement already satisfied: pillow>=6.2.0 in /home/deniz/.local/lib/python3.10/site-packages (from matplotlib) (9.5.0)\n",
      "Requirement already satisfied: pyparsing>=2.3.1 in /home/deniz/.local/lib/python3.10/site-packages (from matplotlib) (3.0.9)\n",
      "Requirement already satisfied: python-dateutil>=2.7 in /home/deniz/.local/lib/python3.10/site-packages (from matplotlib) (2.8.2)\n",
      "Requirement already satisfied: six>=1.5 in /usr/lib/python3/dist-packages (from python-dateutil>=2.7->matplotlib) (1.16.0)\n"
     ]
    }
   ],
   "source": [
    "!pip install scipy\n",
    "!pip install numpy\n",
    "!pip install matplotlib"
   ]
  },
  {
   "cell_type": "markdown",
   "metadata": {},
   "source": [
    "# Soru1 \n",
    "## Adaptif kabul red yöntemi nedir açıklayınız ?\n"
   ]
  },
  {
   "cell_type": "raw",
   "metadata": {},
   "source": [
    "\n",
    "\n",
    "Adaptif kabul red-yöntemi,log-concave(iç büyük) dağılımlar için kabul-red yöntemi üzerinden oluşturulmuş bir methoddur.Aşağıdaki listede log concave dağılımlar aşağıdaki gibidir.\n",
    "\n",
    "<ul>\n",
    "<li>normal</li>\n",
    "<li>exponential</li>\n",
    "<li>Uniform</li>\n",
    "<li>Laplace</li>\n",
    "<li>Gamma (sşekil parametresi ≥ 1)</li>\n",
    "<li>Wishart (n ≥ p + 1)</li>\n",
    "<li>Dirichlet (bütün parametreler ≥ 1)</li>\n",
    "   </ul>\n",
    "\n",
    "\n",
    "Adaptif kabul red-yönteminin ,standart kabul red yönteminden en büyük farkı şudur.Adaptive kabul red yönteminin üst sınırı sürekli değişir .Çünkü aradığımız dağılım fonksiyonu için öneri dağılımınıntürevi ve loglu hallerini kullanırız.Türev kullanarak eğim üzerinden tepe noktasını hesaplayabiliyoruz.Kabul red yöntemine nazaran log-concave(iç büyük) dağılımlar için çok daha efektif bir methoddur .\n",
    "Aşağıdaki görselde kabul red yönteminin gösterimi\n",
    "\n"
   ]
  },
  {
   "cell_type": "markdown",
   "metadata": {},
   "source": [
    "<center><img src=\"img/besinciodev/rejectaccept.png\" alt=\"MarineGEO circle logo\" style=\"height: 500px; width:1000px;\"/>"
   ]
  },
  {
   "cell_type": "markdown",
   "metadata": {},
   "source": [
    "Adaptive kabul red yönteminde ise aşağıdaki gibi gösterebiliriz.\n",
    "\n",
    "\n",
    "\n",
    "<center><img src=\"img/besinciodev/adaptive.png\" alt=\"MarineGEO circle logo\" style=\"height: 500px; width:1000px;\"/>"
   ]
  },
  {
   "cell_type": "markdown",
   "metadata": {},
   "source": [
    "Hem eğimi, hemde öneri dağılımınun loglu hali üzerinden üst limiti belirleyebiliyoruz."
   ]
  },
  {
   "cell_type": "code",
   "execution_count": 8,
   "metadata": {},
   "outputs": [
    {
     "data": {
      "image/png": "[encoded data removed]",
      "text/plain": [
       "<Figure size 640x480 with 1 Axes>"
      ]
     },
     "metadata": {},
     "output_type": "display_data"
    }
   ],
   "source": [
    "import numpy as np\n",
    "\n",
    "def target_distribution(x):\n",
    "    # Hedef dağılımın belirlenmesi, örneğin normal dağılım\n",
    "    mean = 3\n",
    "    std_dev = 1\n",
    "    return np.exp(-0.5 * ((x - mean) / std_dev)**2) / (std_dev * np.sqrt(2 * np.pi))\n",
    "\n",
    "def sample_from_proposal(proposal_distribution, bounds):\n",
    "    # Öneri dağılımından bir örnek seçmek için metropolis-hastings yöntemi kullanılıyor.\n",
    "    x = np.random.uniform(bounds[0], bounds[1])\n",
    "    y = np.random.uniform(0, proposal_distribution(x))\n",
    "    if y <= target_distribution(x):\n",
    "        return x\n",
    "    return None\n",
    "\n",
    "def adaptive_rejection_sampling(N, bounds, initial_points):\n",
    "    # Adaptif reddetme örnekleme algoritması\n",
    "    samples = []\n",
    "    support_points = sorted(initial_points)\n",
    "    \n",
    "    W = calculate_piecewise_linear(support_points)\n",
    "    \n",
    "    while len(samples) < N:\n",
    "        # Öneri dağılımının oluşturulması\n",
    "        proposal_distribution = lambda x: np.exp(-W(x))\n",
    "        \n",
    "        # Öneri dağılımından örnek alınması\n",
    "        sample = sample_from_proposal(proposal_distribution, bounds)\n",
    "        \n",
    "        if sample is not None:\n",
    "            samples.append(sample)\n",
    "            # Reddedilen örneklerin öneri dağılımını güncellemesi\n",
    "            support_points.append(sample)\n",
    "            support_points.sort()\n",
    "        \n",
    "        # Güncellenmiş öneri dağılımının hesaplanması\n",
    "        W = calculate_piecewise_linear(support_points)\n",
    "    \n",
    "    return samples\n",
    "\n",
    "def calculate_piecewise_linear(support_points):\n",
    "    # Parçalı doğrusal fonksiyonun hesaplanması\n",
    "    slopes = []\n",
    "    intercepts = []\n",
    "    \n",
    "    for i in range(1, len(support_points)):\n",
    "        x1, x2 = support_points[i-1], support_points[i]\n",
    "        m = (target_distribution(x2) - target_distribution(x1)) / (x2 - x1)\n",
    "        b = target_distribution(x1) - m * x1\n",
    "        slopes.append(m)\n",
    "        intercepts.append(b)\n",
    "    \n",
    "    return lambda x: min(m * x + b for m, b in zip(slopes, intercepts))\n",
    "\n",
    "# Örnek kullanım\n",
    "N = 1000  # Kaç tane örnek alınacağı\n",
    "bounds = (0, 6)  # Örnekleme alanının sınırları\n",
    "initial_points = [1, 2, 4, 5]  # Başlangıç noktaları\n",
    "\n",
    "samples = adaptive_rejection_sampling(N, bounds, initial_points)\n",
    "\n",
    "# Örneklerin görselleştirilmesi\n",
    "import matplotlib.pyplot as plt\n",
    "\n",
    "x = np.linspace(bounds[0], bounds[1], 1000)\n",
    "plt.plot(x, target_distribution(x), label='Target Distribution')\n",
    "plt.hist(samples, bins=30, density=True, alpha=0.6, color='g', label='Samples')\n",
    "plt.legend()\n",
    "plt.show()\n"
   ]
  },
  {
   "cell_type": "markdown",
   "metadata": {},
   "source": [
    "### kaynakça\n",
    "\n",
    "https://lewiscoleblog.com/monte-carlo-methods\n",
    "\n",
    "https://www.jarad.me/courses/stat615/slides/ARMS/ARMS.pdf\n",
    "\n",
    "https://e-archivo.uc3m.es/rest/api/core/bitstreams/1c6457a7-6d6b-4fb6-a290-4c3307681417/content\n",
    "\n",
    "https://vixra.org/pdf/1509.0048v2.pdf  4.sayfa\n",
    "\n",
    "\n",
    "https://github.com/alumbreras/ARS/blob/master/ars.py"
   ]
  },
  {
   "cell_type": "code",
   "execution_count": null,
   "metadata": {},
   "outputs": [],
   "source": []
  }
 ],
 "metadata": {
  "colab": {
   "provenance": []
  },
  "kernelspec": {
   "display_name": "Python 3 (ipykernel)",
   "language": "python",
   "name": "python3"
  },
  "language_info": {
   "codemirror_mode": {
    "name": "ipython",
    "version": 3
   },
   "file_extension": ".py",
   "mimetype": "text/x-python",
   "name": "python",
   "nbconvert_exporter": "python",
   "pygments_lexer": "ipython3",
   "version": "3.10.12"
  }
 },
 "nbformat": 4,
 "nbformat_minor": 1
}
