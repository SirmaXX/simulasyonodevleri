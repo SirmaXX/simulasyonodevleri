{
 "cells": [
  {
   "cell_type": "markdown",
   "metadata": {
    "id": "k8TCvVPPoXSQ"
   },
   "source": [
    "# <center> DENİZ BALCI SİMÜLASYON 4.ÖDEVİ</center>"
   ]
  },
  {
   "cell_type": "markdown",
   "metadata": {
    "id": "11fnsPxpoXST"
   },
   "source": [
    "# 1)  Paket Kurulumu ve Ön açıklama"
   ]
  },
  {
   "cell_type": "markdown",
   "metadata": {
    "id": "Szkz7yuIoXSU"
   },
   "source": [
    "Bütün hücreleri ayrı ayrı veya bütün halde çalıştırabilirsiniz.İlk olarak paketleri yükleyelim."
   ]
  },
  {
   "cell_type": "code",
   "execution_count": null,
   "metadata": {
    "id": "2_1XpcxDoXSV",
    "outputId": "574e36d5-9ce1-4fbb-951d-1725fd98b252"
   },
   "outputs": [
    {
     "name": "stdout",
     "output_type": "stream",
     "text": [
      "Defaulting to user installation because normal site-packages is not writeable\n",
      "Requirement already satisfied: scipy in /home/deniz/.local/lib/python3.10/site-packages (1.10.1)\n",
      "Requirement already satisfied: numpy<1.27.0,>=1.19.5 in /home/deniz/.local/lib/python3.10/site-packages (from scipy) (1.23.1)\n",
      "Defaulting to user installation because normal site-packages is not writeable\n",
      "Requirement already satisfied: numpy in /home/deniz/.local/lib/python3.10/site-packages (1.23.1)\n",
      "Defaulting to user installation because normal site-packages is not writeable\n",
      "Requirement already satisfied: matplotlib in /home/deniz/.local/lib/python3.10/site-packages (3.7.1)\n",
      "Requirement already satisfied: contourpy>=1.0.1 in /home/deniz/.local/lib/python3.10/site-packages (from matplotlib) (1.0.7)\n",
      "Requirement already satisfied: cycler>=0.10 in /home/deniz/.local/lib/python3.10/site-packages (from matplotlib) (0.11.0)\n",
      "Requirement already satisfied: fonttools>=4.22.0 in /home/deniz/.local/lib/python3.10/site-packages (from matplotlib) (4.39.4)\n",
      "Requirement already satisfied: kiwisolver>=1.0.1 in /home/deniz/.local/lib/python3.10/site-packages (from matplotlib) (1.4.4)\n",
      "Requirement already satisfied: numpy>=1.20 in /home/deniz/.local/lib/python3.10/site-packages (from matplotlib) (1.23.1)\n",
      "Requirement already satisfied: packaging>=20.0 in /home/deniz/.local/lib/python3.10/site-packages (from matplotlib) (23.0)\n",
      "Requirement already satisfied: pillow>=6.2.0 in /home/deniz/.local/lib/python3.10/site-packages (from matplotlib) (9.5.0)\n",
      "Requirement already satisfied: pyparsing>=2.3.1 in /home/deniz/.local/lib/python3.10/site-packages (from matplotlib) (3.0.9)\n",
      "Requirement already satisfied: python-dateutil>=2.7 in /home/deniz/.local/lib/python3.10/site-packages (from matplotlib) (2.8.2)\n",
      "Requirement already satisfied: six>=1.5 in /usr/lib/python3/dist-packages (from python-dateutil>=2.7->matplotlib) (1.16.0)\n"
     ]
    }
   ],
   "source": [
    "!pip install scipy\n",
    "!pip install numpy\n",
    "!pip install matplotlib"
   ]
  },
  {
   "cell_type": "markdown",
   "metadata": {},
   "source": [
    "## Soru1 \n",
    "\n",
    "\n",
    "Box-müller yöntemi (dönüşümü =nedir  anlatınız."
   ]
  },
  {
   "cell_type": "markdown",
   "metadata": {},
   "source": [
    "Box müller methodu ,standart normal dağılımdan veri üretilmek için oluşturulan bir yöntemdir.\n",
    "Kısacası yapılan işlem şu :değişken değiştirme yöntemi kullanılarak kartezyen koordinat sisteminden polar koordinat \n",
    "sistemine geçerek .Standart normal dağılım kullanılarak veri üretilir.\n"
   ]
  },
  {
   "cell_type": "code",
   "execution_count": null,
   "metadata": {},
   "outputs": [],
   "source": []
  },
  {
   "cell_type": "markdown",
   "metadata": {},
   "source": [
    "## Soru 2\n",
    "a) $X \\sim N(\\mu,\\sigma^2)$ Normal dağılımına sahip olsun.Box müller yöntemi ile X rassal değişkeninden 100 birim veri üretiniz\n",
    "\n",
    "b) Kabul red yönteminde  $v=g(v) \\sim cauchy $ olacak şekilde X rassal değişkeninden veri üretiniz\n",
    "\n",
    "c) K-R  yönteminde  $g(v)$ 'yi siz belirleyiniz."
   ]
  },
  {
   "cell_type": "markdown",
   "metadata": {},
   "source": [
    "### A şıkkı 1.YOL"
   ]
  },
  {
   "cell_type": "code",
   "execution_count": 62,
   "metadata": {},
   "outputs": [
    {
     "name": "stderr",
     "output_type": "stream",
     "text": [
      "/tmp/ipykernel_16254/2156216345.py:15: DeprecationWarning: Conversion of an array with ndim > 0 to a scalar is deprecated, and will error in future. Ensure you extract a single element from your array before performing this operation. (Deprecated NumPy 1.25.)\n",
      "  out[i] = mu + X * sigma\n"
     ]
    },
    {
     "data": {
      "image/png": "[encoded data removed]",
      "text/plain": [
       "<Figure size 640x480 with 1 Axes>"
      ]
     },
     "metadata": {},
     "output_type": "display_data"
    }
   ],
   "source": [
    "import numpy as np\n",
    "import numpy.random as rd\n",
    "from scipy import stats\n",
    "import matplotlib.pyplot as plt\n",
    "\n",
    "def f(theta, E):\n",
    "    return np.cos(theta)* np.sqrt(2 * E)\n",
    "\n",
    "def BoxMuller(N, mu=0, sigma=1):\n",
    "    out = np.zeros(N)\n",
    "    for i in range(N):\n",
    "        theta = rd.uniform(low=0, high=2 * np.pi, size=1)\n",
    "        E = rd.exponential(scale=1 / 1, size=1)\n",
    "        X = f(theta, E)\n",
    "        out[i] = mu + X * sigma\n",
    "    return out\n",
    "\n",
    "def phi(x, mu, sigma):\n",
    "    return 1 / np.sqrt(2 * np.pi * sigma**2) * np.exp(-(x - mu)**2 / (2 * sigma**2))\n",
    "\n",
    "plt.figure()\n",
    "X = BoxMuller(1000, mu=0, sigma=1)\n",
    "plt.hist(X, bins=50, density=True)\n",
    "xx = np.linspace(-5, 5, 1000)\n",
    "plt.plot(xx, phi(xx, 0, 1))\n",
    "plt.show()\n"
   ]
  },
  {
   "cell_type": "markdown",
   "metadata": {},
   "source": [
    "### A şıkkı 2.yol"
   ]
  },
  {
   "cell_type": "code",
   "execution_count": 63,
   "metadata": {},
   "outputs": [
    {
     "data": {
      "text/plain": [
       "array([-8.76860123e-01, -1.37039266e+00,  2.33183634e-01,  3.07076693e-01,\n",
       "        7.95846304e-02,  9.12551914e-01,  6.49602133e-02,  1.77041809e+00,\n",
       "        1.09754226e+00,  1.38590104e-01, -2.27782421e-01,  3.15821367e-01,\n",
       "        1.64009527e+00,  5.60531548e-01,  2.40314928e-01, -2.64636691e-01,\n",
       "       -7.46189667e-01,  1.86539917e+00, -4.10546681e-01,  1.37085770e+00,\n",
       "       -2.01122148e+00,  4.46186230e-01, -1.14806157e-01,  1.99155426e+00,\n",
       "        7.21540497e-02, -6.09314655e-01,  2.09579059e-01,  1.16743344e+00,\n",
       "       -9.40572583e-01, -5.83846214e-02,  2.68853896e-01, -1.66452739e+00,\n",
       "        3.13698619e-01, -1.08537192e+00, -6.16665071e-01,  9.15787056e-01,\n",
       "       -1.79541498e+00,  1.20731231e+00, -1.34153971e+00,  2.12134513e+00,\n",
       "        9.94995367e-01,  1.84272230e+00,  5.67590211e-01, -4.69072491e-01,\n",
       "        2.16688565e+00,  1.22603935e+00, -8.95753913e-01, -7.48390897e-01,\n",
       "       -8.73859960e-01,  2.14465738e-01,  1.11256247e+00,  1.06861311e+00,\n",
       "        1.03145890e+00,  1.58067352e-01,  5.17418860e-01,  2.15357080e-01,\n",
       "        9.50765142e-01,  9.79187727e-01,  4.77294546e-01, -4.94762342e-01,\n",
       "        1.87979447e+00, -9.91294691e-01,  1.02471479e+00, -2.41364569e-01,\n",
       "        4.97862933e-01,  4.83116198e-01, -2.37806486e-01,  4.23243108e-01,\n",
       "        1.19677680e+00,  1.78525021e+00, -1.47200711e+00, -9.83476726e-01,\n",
       "       -1.59462632e+00, -1.17706587e-01,  3.04661347e-01,  3.25923833e-02,\n",
       "        2.66728570e-01,  2.98059073e-01, -8.46088498e-01, -5.07981201e-01,\n",
       "        3.82279122e-01,  2.18299182e+00, -1.25438716e+00, -1.79270545e-01,\n",
       "       -9.01908259e-01,  5.79671989e-01,  2.43814296e+00,  6.63151380e-01,\n",
       "       -4.93515362e-01,  2.23392729e-01,  1.88468844e+00,  1.92840996e+00,\n",
       "        1.17990779e+00, -1.38246026e+00, -6.34170918e-01, -8.92914620e-01,\n",
       "       -2.55725499e-01,  3.38257197e-01, -1.49231723e+00,  2.13505121e+00,\n",
       "       -2.34398769e-01,  4.81177557e-01, -6.47305405e-02, -1.37166235e+00,\n",
       "        9.48674060e-01, -2.20546773e-01, -2.57700183e-01,  3.29290748e-01,\n",
       "       -1.20844994e+00,  1.35463323e+00, -2.29744585e+00, -1.66682889e+00,\n",
       "        7.36515789e-01,  5.88511812e-01,  7.43806798e-01,  1.04357714e+00,\n",
       "        6.94219779e-01,  4.14716058e-01,  1.63569536e+00,  9.20236555e-01,\n",
       "       -1.32790823e+00,  1.41754146e+00,  4.12764344e-01,  3.91945333e-02,\n",
       "       -8.51217790e-01, -1.63991663e+00,  6.49589525e-01,  1.04370951e-01,\n",
       "       -5.42553309e-01, -1.96275537e+00, -1.08781185e+00, -9.31787963e-01,\n",
       "       -2.18222604e-01,  6.55896955e-01,  3.57232593e-01,  1.43065799e+00,\n",
       "        5.34097985e-01,  1.01644628e+00, -1.84250570e+00,  2.08440241e+00,\n",
       "       -1.97058634e-01,  9.80570332e-01, -1.54364971e+00,  7.98379508e-01,\n",
       "        1.01246158e+00,  4.17689672e-02,  1.40807797e-01,  2.67404969e-01,\n",
       "       -2.41918037e+00,  3.69140496e-01,  9.80581032e-01,  8.87785158e-01,\n",
       "       -7.82986149e-01, -1.99920689e+00,  1.74991984e-01,  8.68304698e-01,\n",
       "       -1.14640837e+00, -4.21089827e-01, -4.96726292e-04,  7.12766277e-01,\n",
       "        6.38494693e-01,  1.36084067e+00, -1.99129704e-01,  9.02724831e-01,\n",
       "        1.46408422e-01, -5.28638457e-01,  2.38272414e-01, -1.63784636e+00,\n",
       "       -1.22896881e+00,  5.17553209e-01, -5.84460378e-01, -9.61686714e-01,\n",
       "       -2.34258049e-01, -1.95051426e-01, -2.42663915e-02, -7.29857751e-03,\n",
       "        6.73871980e-01,  9.23344127e-01,  2.31308323e+00, -3.31771876e-01,\n",
       "        2.29657831e+00,  1.45850047e+00, -2.85107584e-01,  1.42845039e+00,\n",
       "       -1.23853913e+00, -3.12664348e-01,  5.64881634e-01,  1.93881372e+00,\n",
       "       -1.38288110e+00,  5.24357332e-01,  1.53457628e-02,  3.29028332e-01,\n",
       "        3.54208060e-01,  2.57111219e+00,  5.87277757e-01, -1.99552181e+00,\n",
       "       -2.13534224e+00,  3.57681281e-01,  1.11894992e+00, -1.29215229e+00,\n",
       "        1.82378605e-01,  4.93733372e-01,  1.25409158e+00, -4.09411328e-01,\n",
       "        8.41710208e-02, -1.64773602e+00,  1.03782562e+00, -1.06631410e-01,\n",
       "        1.36183942e-01, -1.18954321e+00,  1.61919842e-01, -2.50319952e-01,\n",
       "        1.48389905e+00, -2.72935893e-01, -1.03978594e+00, -2.98540987e-01,\n",
       "       -1.48347142e+00,  3.78606096e-01,  4.06290443e-01, -5.67493895e-01,\n",
       "        2.53669334e-01, -4.14933472e-01, -3.27748908e-01, -6.16551846e-02,\n",
       "       -3.16688879e-01,  5.93577271e-01, -1.04161442e+00, -3.24918118e-01,\n",
       "        8.06889545e-01, -8.91450880e-01, -7.67439073e-01, -1.48570067e-01,\n",
       "       -3.39849602e-02,  6.54701372e-01, -2.56420609e-01, -6.70433599e-01,\n",
       "       -1.46295164e+00, -1.03621636e+00,  1.06370733e+00, -5.53426934e-02,\n",
       "       -9.06844886e-03, -6.49426059e-01,  1.24721070e+00, -1.27382312e-01,\n",
       "        1.63862853e+00,  5.77156883e-01, -1.80858639e-01,  2.46873150e-01,\n",
       "        5.27725550e-01, -2.17066617e-01, -7.26230900e-01, -1.04631890e+00,\n",
       "        2.07359742e+00,  2.92054013e-01,  2.75691026e-02, -2.05264119e+00,\n",
       "        4.17752660e-01,  1.16757271e-01, -1.02416320e+00,  2.61947620e+00,\n",
       "        1.26388220e+00,  6.72722243e-01,  1.02806019e+00, -2.27129936e+00,\n",
       "       -1.59250731e+00, -2.15721966e-01, -9.15711443e-01,  5.15964289e-01,\n",
       "        6.02798042e-01,  2.23280722e-01, -1.50344070e+00,  1.36020253e+00,\n",
       "        4.02114144e-01, -2.03389115e+00, -2.73477855e-01, -9.06235675e-01,\n",
       "        6.99711111e-01, -6.52588135e-01, -8.73035640e-01,  1.17128181e+00,\n",
       "        1.72463726e+00,  5.64103991e-01,  1.08863673e+00, -6.03367368e-01,\n",
       "       -2.97988520e-02,  8.09961851e-01, -1.85492489e+00,  3.97002946e-01,\n",
       "        8.27847910e-02, -2.98212874e-01,  3.33121000e-01,  8.01807084e-01,\n",
       "       -2.14771978e-01,  6.54463647e-01,  1.23812563e+00,  1.26608515e+00,\n",
       "        1.18501814e+00,  1.65866602e+00, -2.52495476e-01,  1.38403394e-01,\n",
       "        7.04343487e-01,  1.31038517e+00, -7.23184808e-01, -1.06347871e+00,\n",
       "        2.94403297e-02, -1.33715293e+00, -9.43077981e-02,  2.62474224e-01,\n",
       "        1.56519432e+00,  6.50633062e-01, -4.40245617e-01, -2.46507497e-01,\n",
       "       -1.29624605e+00, -8.20985080e-01,  5.77772554e-01,  1.00172833e+00,\n",
       "        3.81241566e-01, -2.29447237e-01, -2.30762921e-01, -1.07829579e+00,\n",
       "       -6.48615687e-01, -3.14546117e-01, -1.86901971e-01,  3.89810547e-01,\n",
       "        1.15462083e+00, -2.15206421e-01,  5.00776268e-01,  2.15761695e+00,\n",
       "        9.55487896e-01, -1.01231440e+00,  5.69549927e-01,  8.26597897e-01,\n",
       "        3.86678253e-01,  1.65328044e-01,  1.59162426e+00, -7.00800912e-01,\n",
       "       -5.74719321e-01,  7.56278476e-01, -1.06291883e+00,  2.64015551e-01,\n",
       "        2.79289645e-01, -7.59368848e-01,  1.01632368e+00, -2.24664123e-01,\n",
       "       -7.84673639e-01, -6.12159796e-01,  1.29209980e+00,  9.58905048e-01,\n",
       "       -1.73769671e-01, -5.05357612e-01,  6.53644463e-01,  1.23919234e-01,\n",
       "       -6.45535503e-03, -4.81286682e-01, -1.94729142e-01,  1.88697756e+00,\n",
       "       -1.18455064e+00, -6.79387908e-01,  1.31844201e-01, -3.66445982e-01,\n",
       "       -2.36194872e-01, -1.10776186e+00,  1.16653534e+00,  1.42012490e+00,\n",
       "        6.21693716e-01, -1.49873154e+00, -1.30328801e+00, -9.92547854e-01,\n",
       "        9.44122156e-01, -8.88037960e-01,  9.61133137e-01, -1.55581901e+00,\n",
       "       -2.51522793e-01, -2.74528584e-01, -4.41569701e-01,  5.43356780e-01,\n",
       "        1.17912611e+00, -1.68597613e-01, -1.93445268e+00,  1.45851243e+00,\n",
       "        2.14024267e-01,  3.35270627e+00,  6.02512483e-02,  3.75702840e-01,\n",
       "       -1.16749554e-01, -3.99021958e-01,  1.67241734e+00,  4.07828031e-02,\n",
       "       -5.86689355e-01,  2.41299091e-01,  5.67296153e-02, -1.59770412e+00,\n",
       "       -3.07013781e-01,  1.94456474e-01, -1.08738242e+00, -1.08509567e+00,\n",
       "        1.79433481e+00,  6.78073964e-01,  8.16221565e-01,  1.10249266e+00,\n",
       "       -1.08625390e+00, -5.65924113e-01,  8.12390562e-01,  1.69341899e+00,\n",
       "       -1.67704702e-01,  1.18333069e+00, -6.72231831e-01,  1.99812396e-01,\n",
       "       -2.39201878e+00,  7.48605498e-01, -1.19735758e+00, -1.22363465e+00,\n",
       "       -1.67309557e+00, -9.66830488e-01, -1.52006208e+00,  4.42714241e-01,\n",
       "       -1.23820600e-01, -9.78713110e-01, -2.08406871e-01, -1.68826408e+00,\n",
       "        6.97388446e-01, -8.75568847e-01, -5.58944056e-01, -5.18707602e-01,\n",
       "        1.46655057e-01,  7.46217148e-01,  9.93172948e-01, -5.52075389e-01,\n",
       "        2.18255102e+00,  3.14557438e-01,  3.56283651e-01, -4.09315796e-01,\n",
       "        1.99431268e-01,  1.05849409e-01,  1.28438151e+00, -1.22584732e+00,\n",
       "        1.27329221e-01, -6.92644288e-01, -9.11050489e-02,  5.08374965e-01,\n",
       "        1.35540873e-01,  1.22972100e+00, -1.43480206e+00,  1.51982931e-01,\n",
       "        1.48433034e+00,  4.55768709e-01,  4.00817731e-01,  1.44589123e-01,\n",
       "        1.66589859e+00,  6.23841875e-01,  1.37496462e+00, -4.69532246e-01,\n",
       "        8.25597928e-01,  9.43261124e-01,  1.16452424e+00,  1.26991583e+00,\n",
       "       -1.28608264e-01,  1.32814539e+00,  9.83702110e-01,  9.22429757e-01,\n",
       "        6.95947833e-01, -1.17741857e+00, -6.19684565e-01,  3.45540198e-02,\n",
       "       -2.80258795e-02,  7.45261958e-01,  5.67069158e-01,  3.51784222e-02,\n",
       "        1.48760555e+00,  4.45219254e-01, -1.07073903e+00, -9.65066138e-01,\n",
       "        1.18302679e+00,  5.87532141e-01,  2.25723760e-01, -8.56185233e-01,\n",
       "       -1.23127431e+00,  7.20576906e-01, -3.68250982e-01, -2.10762962e-01,\n",
       "        5.50520183e-01, -1.37043980e+00, -1.98153133e-01,  5.18763398e-01,\n",
       "        3.59596991e-02, -6.58925441e-01,  1.44573414e+00,  2.05587561e-01,\n",
       "       -1.94697346e+00, -4.54588581e-01,  2.65605187e-01,  6.54608643e-01,\n",
       "        4.16830453e-01,  1.43393073e+00, -1.63422048e-01,  1.18071331e+00,\n",
       "       -1.36443058e+00,  2.17135104e-01,  1.02307014e+00,  2.45192592e+00,\n",
       "       -5.48158731e-01,  9.38346548e-01, -3.64089791e-01, -1.11922205e-01,\n",
       "       -6.25456859e-03, -1.62066059e+00,  3.57826867e-01,  4.00400111e-01,\n",
       "        4.62927498e-01, -8.44979153e-01,  9.94520554e-01,  6.27096716e-01,\n",
       "       -7.94499247e-01, -6.05550923e-01, -1.24983969e+00, -5.88621159e-01,\n",
       "        3.85160478e-01, -2.83486877e-01, -5.85455322e-02, -3.06695448e+00,\n",
       "       -5.01059682e-02,  6.50334574e-01, -4.62416338e-01, -4.13849184e-01,\n",
       "        8.97187640e-01,  3.74715103e-01, -1.52533778e+00, -9.17239140e-01,\n",
       "       -1.44051139e-02, -7.51620190e-02,  1.21742110e+00, -6.28679579e-01,\n",
       "       -2.80720826e-01,  5.09909707e-01,  1.57207150e-01, -3.46820469e-01,\n",
       "        5.02771364e-01, -1.25997061e+00, -1.30875502e-03,  1.16690171e+00,\n",
       "        4.00287690e-01, -9.06472822e-01, -7.04032037e-01,  2.66205669e-01,\n",
       "        2.45681861e+00,  1.31715483e+00, -2.77431245e-01, -1.04923765e+00,\n",
       "       -1.77450809e+00, -1.36245287e-01,  4.92948584e-01,  1.03434800e+00,\n",
       "       -2.02212872e-01,  7.13267495e-01,  2.39451595e-01,  3.08984168e-01,\n",
       "       -2.09650307e-02, -9.43714466e-01,  8.57525820e-01, -1.32402440e+00,\n",
       "       -1.15151137e+00, -5.56044275e-01, -7.32759808e-01,  1.26678511e+00,\n",
       "        1.28004451e-01,  1.61387128e-01,  1.17497816e-01, -6.81502895e-01,\n",
       "       -1.40860071e-01, -4.94564838e-01, -2.40230536e-01, -4.18656035e-01,\n",
       "        3.38113641e-01, -8.87316498e-01,  4.35694956e-02, -3.33888842e-01,\n",
       "       -3.57618346e-01,  1.06712123e+00,  3.83063731e-01, -1.52547556e-01,\n",
       "        8.52097343e-01,  1.33192353e+00, -1.97179990e-01,  2.10781895e-01,\n",
       "        3.10646055e-01, -1.27341621e+00,  7.37929439e-01, -7.05384027e-01,\n",
       "        9.48464211e-01, -8.21281975e-01,  1.19366492e+00,  1.00513723e+00,\n",
       "        7.07289940e-01,  8.32818754e-01,  1.91663045e-01, -4.43309129e-01,\n",
       "        8.40595537e-01,  6.20202185e-01,  2.29561500e-01, -5.56609665e-01,\n",
       "       -2.56055694e+00, -3.04340249e-01,  1.34046032e+00, -9.64470386e-01,\n",
       "       -1.29390095e+00,  1.71322567e-01,  8.08082326e-01,  2.46107589e-01,\n",
       "       -1.36798357e+00,  7.30324855e-01,  3.76387288e-01, -1.35746609e-01,\n",
       "       -1.39266615e-01,  6.23980527e-01,  7.88806528e-02,  1.70000435e+00,\n",
       "        1.77112564e+00,  2.07315304e-01, -1.98124342e+00,  4.63580673e-01,\n",
       "       -2.82382896e-01, -6.31853628e-01, -3.96858182e-01, -1.45704317e+00,\n",
       "       -5.88128321e-01, -6.82677495e-01, -9.48330547e-04,  1.10112588e+00,\n",
       "        7.91281417e-01, -1.52944225e-01,  7.46512465e-01,  1.23808949e+00,\n",
       "        8.92627129e-01, -9.35766107e-01,  6.36944308e-01, -1.78733483e+00,\n",
       "        1.65823269e+00,  1.46122326e+00,  3.63503752e-01,  2.02017870e+00,\n",
       "       -1.06601467e-01,  9.80140786e-01, -2.76010038e-01,  9.83321310e-01,\n",
       "        3.40169808e-01, -2.39044600e-01, -1.33508711e+00,  5.47392201e-02,\n",
       "        1.09802486e+00, -1.12573158e+00, -3.47866643e-01, -1.62625003e-01,\n",
       "       -4.79574935e-01,  6.35988265e-01, -9.26452513e-01, -6.85647955e-01,\n",
       "        3.03461728e+00, -1.18555235e+00, -6.64784492e-01, -6.68443919e-01,\n",
       "        1.09242390e+00, -7.70227428e-01, -9.60358158e-01,  9.95461000e-01,\n",
       "       -4.09759943e-01, -1.48591956e+00, -1.96895422e-02,  2.14575678e-01,\n",
       "       -2.36088761e-01, -2.35575522e-01, -1.24352601e+00,  7.43355941e-01,\n",
       "       -2.62869288e-01, -4.62489666e-01, -1.00550708e+00, -9.24832642e-01,\n",
       "       -3.09034784e-01,  1.00100743e+00,  3.22594307e-01, -5.25605358e-01,\n",
       "       -1.91886772e-01,  1.48785420e+00,  3.05337985e-01,  9.35700696e-02,\n",
       "        1.71122253e+00,  8.90766073e-01, -6.50476939e-02, -1.24796985e-01,\n",
       "        4.65174043e-01, -7.10219341e-02,  3.00977911e-01,  1.72663605e-02,\n",
       "        2.08495207e+00, -1.35855454e+00,  1.36591593e+00, -2.43147312e-01,\n",
       "       -1.54450407e+00, -1.49539776e+00, -1.36884496e+00, -1.95251989e-01,\n",
       "        9.74797431e-01,  5.03142795e-01,  8.08514309e-01, -1.44181314e-01,\n",
       "        1.25503401e+00, -5.02873955e-01,  6.82290472e-01, -1.58737348e+00,\n",
       "       -1.98554511e-01,  7.69102248e-01, -3.96406672e-01, -8.12947829e-01,\n",
       "       -1.81776898e+00, -1.72680649e+00, -3.19184886e-01, -3.08195950e-01,\n",
       "       -2.26704098e+00, -1.88873955e+00,  6.20070004e-01,  3.20104551e-02,\n",
       "       -8.54552858e-01,  1.34473437e+00, -8.17152298e-01,  4.08600493e-01,\n",
       "        3.36856270e-01, -7.68435257e-01, -1.50310844e+00, -2.38846396e-01,\n",
       "       -9.94496570e-01,  2.25299499e-01,  1.14548060e+00,  1.28852179e+00,\n",
       "       -5.70513746e-01, -4.10724560e-01,  2.00093555e-01, -5.92537855e-01,\n",
       "       -6.32684737e-01,  1.51588848e+00,  1.13463745e-01,  1.32364499e+00,\n",
       "        6.59290460e-01, -3.08817985e-01,  6.26931348e-01,  1.09679098e+00,\n",
       "       -5.22770523e-01, -3.66092557e-01,  3.70207261e-01, -4.56972979e-01,\n",
       "        3.10028292e-01,  3.49955841e-01,  1.26225941e+00,  3.11733450e-01,\n",
       "        1.23952299e-01, -4.06820894e-01,  1.53722781e+00, -5.04857929e-01,\n",
       "        2.62428433e-01, -6.92364364e-01, -1.09784128e+00, -8.32376541e-01,\n",
       "        1.38383939e-01,  1.43054755e+00,  3.40752642e-01, -5.25457525e-01,\n",
       "       -3.11285067e-02, -1.01386340e-01,  2.18425408e+00, -3.93576452e+00,\n",
       "       -1.37952179e-01,  5.38109417e-01, -1.74016317e+00, -3.06356403e+00,\n",
       "       -5.99337166e-01, -2.53867219e-01,  9.76039456e-01, -3.50097548e-01,\n",
       "        1.24577295e-01,  1.06482462e+00,  8.85911531e-01, -7.78260312e-01,\n",
       "        8.77701623e-01, -4.23033016e-01, -1.19733169e-01,  8.89926475e-02,\n",
       "       -7.05035365e-02,  1.51804047e+00, -4.24883255e-01,  1.03580054e-01,\n",
       "       -1.70993003e+00,  4.48688896e-01,  1.08396543e-01,  1.24048548e-02,\n",
       "       -3.66231566e-01, -8.82900274e-01, -1.94893843e-01,  3.84957619e-01,\n",
       "       -1.05195783e+00, -2.44567780e-01, -1.38058410e+00,  2.68865277e-01,\n",
       "        9.21992365e-01,  1.75319821e-01, -1.71613723e+00, -1.75959929e-01,\n",
       "       -6.71649631e-01,  1.94098000e+00,  3.79062762e-01, -1.87369241e-02,\n",
       "       -7.19075892e-01, -1.96949296e+00,  2.51108810e-01,  7.68471150e-01,\n",
       "       -1.38793210e+00,  2.35181121e+00,  7.93966896e-01,  4.81682810e-01,\n",
       "        6.44434261e-01,  8.19972676e-01,  9.14944625e-01, -9.43888386e-02,\n",
       "        6.19029610e-01,  4.02765829e-01,  9.21718567e-01, -5.18424533e-01,\n",
       "        8.14007729e-01,  1.09588492e-01,  4.04930057e-01, -1.49978371e+00,\n",
       "       -4.24423161e-02,  2.83144478e+00, -1.00948452e-01,  1.41447819e+00,\n",
       "       -1.18025541e+00, -1.26041222e-01,  1.63983244e-01,  4.69904618e-01,\n",
       "       -1.43280846e+00,  1.06456500e+00,  5.34367873e-01, -3.95434698e-01,\n",
       "        1.37105068e+00,  3.13769714e-01, -2.96954231e-01,  5.39970954e-01,\n",
       "        6.03446657e-01, -3.69115926e-01, -1.33062262e+00,  6.83931483e-01,\n",
       "        5.19261720e-01,  2.59279563e-01, -2.24182236e-01, -1.87369690e-01,\n",
       "       -6.22837875e-01,  1.12488630e+00,  3.60762035e-01,  7.24913946e-01,\n",
       "        6.90277347e-02,  3.82855961e-01, -5.99774854e-01, -2.39947260e-01,\n",
       "        5.81884569e-01, -1.10138223e+00, -1.54601349e+00,  2.75287060e-01,\n",
       "        7.95394313e-01, -8.27916813e-01,  1.58430881e-01,  1.29612531e-01,\n",
       "       -7.69030439e-01, -2.39651771e-01,  1.18227995e+00, -2.77091236e-01,\n",
       "       -4.98317847e-02,  1.66377315e+00, -1.23704143e+00, -1.57942685e-01,\n",
       "       -9.97649496e-01,  7.35524169e-01,  4.65590252e-01,  4.77112364e-01,\n",
       "       -3.13460514e-01,  6.65559282e-01,  5.71369317e-01,  1.26350404e+00,\n",
       "       -5.02127995e-01, -6.00378788e-01,  5.97495547e-01,  4.67118931e-01,\n",
       "        1.81090357e-01, -1.76162320e-01, -1.47329952e+00,  1.07848943e+00,\n",
       "        8.57491579e-01, -7.03462914e-02, -1.46706130e+00,  1.55648143e+00,\n",
       "        1.26170557e+00, -4.67993620e-01,  2.68594373e-02, -6.15342599e-01,\n",
       "       -1.04266102e+00,  9.95857373e-01,  5.31555412e-01, -5.59545301e-01,\n",
       "        1.52796975e-01, -2.60926217e-01, -4.53510737e-01, -2.26174076e+00,\n",
       "        5.87476334e-01,  5.14000104e-01,  1.36101103e-01,  2.65442768e-01,\n",
       "       -1.56410829e+00,  2.97999476e-01, -1.03264446e+00,  9.24973641e-01,\n",
       "        2.42368573e+00,  1.26263983e+00, -1.12567718e+00, -2.19078507e+00,\n",
       "       -4.89008750e-01, -1.58699243e-01, -7.12120146e-01, -2.89518438e-01,\n",
       "       -1.26091593e+00,  1.33478680e+00, -1.15793825e+00,  6.17586472e-01,\n",
       "        6.97554748e-02,  8.33379560e-01, -3.45076657e-01, -1.55977606e+00,\n",
       "       -1.23396478e+00, -1.99405364e-01, -1.01338461e+00, -2.08565687e-01,\n",
       "       -3.03707777e-01,  9.20257782e-01,  1.50670278e+00,  4.39417065e-01,\n",
       "       -2.04285397e+00, -1.47373519e+00,  2.68405855e-02, -3.66137616e-01,\n",
       "       -8.95963160e-01, -7.35886459e-01, -4.68284844e-01, -1.89420403e+00,\n",
       "        2.76677744e-01,  3.81645085e-01, -2.68756708e-01, -1.56432607e+00,\n",
       "        9.49195194e-01,  1.10071868e+00,  5.87508018e-01, -8.44194230e-01,\n",
       "        9.26427541e-01,  1.92965799e+00,  2.57762898e-02, -6.69125780e-01,\n",
       "        7.68574207e-01, -3.22746530e-02,  8.24516745e-01, -3.74840929e-01,\n",
       "        3.77409423e-01, -1.07181504e+00,  6.25382077e-01, -8.09670779e-01,\n",
       "       -1.27501338e-01,  3.58156639e-01,  1.06961441e+00, -4.67801360e-01,\n",
       "       -1.42472116e+00,  8.83745499e-01, -1.44177105e+00,  6.57999233e-01,\n",
       "        4.91055696e-01,  1.36146809e+00, -3.13520403e-01, -6.48716506e-01,\n",
       "       -1.70884905e-01,  1.36398957e+00,  1.40364360e+00,  4.02472426e-01,\n",
       "        1.92290887e-01, -1.68555652e+00, -1.55509317e-01, -1.14705103e+00,\n",
       "        2.93433052e-01,  1.24727889e+00, -1.21621053e+00,  4.67851500e-01,\n",
       "       -2.48006780e-01, -1.19152858e-01, -1.40706095e-01,  7.34371698e-01,\n",
       "       -2.26675568e-01, -6.38349368e-01,  1.89688981e+00,  1.84095422e+00])"
      ]
     },
     "execution_count": 63,
     "metadata": {},
     "output_type": "execute_result"
    }
   ],
   "source": [
    "U1= rd.uniform(low=0, high=1 , size=500)\n",
    "U2= rd.uniform(low=0, high=1 , size=500)\n",
    "X1=np.sqrt(-2*np.log(U1))*np.cos(2*np.pi*U2)\n",
    "X2=np.sqrt(-2*np.log(U1))*np.sin(2*np.pi*U2)\n",
    "X=np.concatenate((X1,X2),axis=0)\n",
    "X"
   ]
  },
  {
   "cell_type": "code",
   "execution_count": 64,
   "metadata": {},
   "outputs": [
    {
     "data": {
      "text/plain": [
       "(array([ 1.,  0.,  0.,  0.,  0.,  0.,  0.,  0.,  0.,  0.,  0.,  2.,  0.,\n",
       "         0.,  0.,  0.,  0.,  0.,  1.,  0.,  1.,  1.,  4.,  1.,  1.,  2.,\n",
       "         6.,  3.,  4.,  4.,  6.,  7., 11., 15.,  6., 16., 10., 15.,  9.,\n",
       "        19., 14., 20., 15., 13., 20., 25., 17., 24., 23., 25., 45., 38.,\n",
       "        27., 29., 24., 29., 31., 28., 34., 32., 27., 26., 31., 19., 19.,\n",
       "        19., 22., 26., 16., 12., 19., 16., 16.,  9., 10.,  4.,  8.,  4.,\n",
       "         4.,  6.,  5.,  2.,  3.,  7.,  0.,  2.,  1.,  4.,  0.,  2.,  0.,\n",
       "         0.,  1.,  0.,  0.,  1.,  0.,  0.,  0.,  1.]),\n",
       " array([-3.93576452e+00, -3.86287981e+00, -3.78999511e+00, -3.71711040e+00,\n",
       "        -3.64422569e+00, -3.57134098e+00, -3.49845627e+00, -3.42557157e+00,\n",
       "        -3.35268686e+00, -3.27980215e+00, -3.20691744e+00, -3.13403273e+00,\n",
       "        -3.06114803e+00, -2.98826332e+00, -2.91537861e+00, -2.84249390e+00,\n",
       "        -2.76960919e+00, -2.69672449e+00, -2.62383978e+00, -2.55095507e+00,\n",
       "        -2.47807036e+00, -2.40518566e+00, -2.33230095e+00, -2.25941624e+00,\n",
       "        -2.18653153e+00, -2.11364682e+00, -2.04076212e+00, -1.96787741e+00,\n",
       "        -1.89499270e+00, -1.82210799e+00, -1.74922328e+00, -1.67633858e+00,\n",
       "        -1.60345387e+00, -1.53056916e+00, -1.45768445e+00, -1.38479974e+00,\n",
       "        -1.31191504e+00, -1.23903033e+00, -1.16614562e+00, -1.09326091e+00,\n",
       "        -1.02037620e+00, -9.47491497e-01, -8.74606789e-01, -8.01722081e-01,\n",
       "        -7.28837373e-01, -6.55952665e-01, -5.83067957e-01, -5.10183249e-01,\n",
       "        -4.37298541e-01, -3.64413833e-01, -2.91529125e-01, -2.18644418e-01,\n",
       "        -1.45759710e-01, -7.28750017e-02,  9.70618668e-06,  7.28944141e-02,\n",
       "         1.45779122e-01,  2.18663830e-01,  2.91548538e-01,  3.64433246e-01,\n",
       "         4.37317954e-01,  5.10202662e-01,  5.83087370e-01,  6.55972077e-01,\n",
       "         7.28856785e-01,  8.01741493e-01,  8.74626201e-01,  9.47510909e-01,\n",
       "         1.02039562e+00,  1.09328032e+00,  1.16616503e+00,  1.23904974e+00,\n",
       "         1.31193445e+00,  1.38481916e+00,  1.45770386e+00,  1.53058857e+00,\n",
       "         1.60347328e+00,  1.67635799e+00,  1.74924270e+00,  1.82212740e+00,\n",
       "         1.89501211e+00,  1.96789682e+00,  2.04078153e+00,  2.11366624e+00,\n",
       "         2.18655094e+00,  2.25943565e+00,  2.33232036e+00,  2.40520507e+00,\n",
       "         2.47808978e+00,  2.55097448e+00,  2.62385919e+00,  2.69674390e+00,\n",
       "         2.76962861e+00,  2.84251331e+00,  2.91539802e+00,  2.98828273e+00,\n",
       "         3.06116744e+00,  3.13405215e+00,  3.20693685e+00,  3.27982156e+00,\n",
       "         3.35270627e+00]),\n",
       " <BarContainer object of 100 artists>)"
      ]
     },
     "execution_count": 64,
     "metadata": {},
     "output_type": "execute_result"
    },
    {
     "data": {
      "image/png": "[encoded data removed]",
      "text/plain": [
       "<Figure size 640x480 with 1 Axes>"
      ]
     },
     "metadata": {},
     "output_type": "display_data"
    }
   ],
   "source": [
    "plt.clf()\n",
    "plt.hist(X,bins=100)"
   ]
  },
  {
   "cell_type": "code",
   "execution_count": 65,
   "metadata": {},
   "outputs": [
    {
     "data": {
      "image/png": "[encoded data removed]",
      "text/plain": [
       "<Figure size 800x600 with 1 Axes>"
      ]
     },
     "metadata": {},
     "output_type": "display_data"
    }
   ],
   "source": [
    "\n",
    "import numpy as np\n",
    "import matplotlib.pyplot as plt\n",
    "\n",
    "# Parameters\n",
    "mu = 1\n",
    "sigma = 4\n",
    "N = 1000  # Number of samples\n",
    "\n",
    "# Generate random samples for X\n",
    "X = np.random.randn(N)\n",
    "\n",
    "# Calculate Y\n",
    "Y = mu + X * sigma\n",
    "\n",
    "# Plot histograms\n",
    "plt.figure(figsize=(8, 6))\n",
    "\n",
    "# Histogram for X\n",
    "plt.hist(X, bins=50, color='blue', alpha=0.5, label='X')\n",
    "\n",
    "# Histogram for Y\n",
    "plt.hist(Y, bins=50, color='red', alpha=0.5, label='Y')\n",
    "\n",
    "# Add labels and title\n",
    "plt.xlabel('Value')\n",
    "plt.ylabel('Frequency')\n",
    "plt.title('Histograms of X and Y')\n",
    "plt.legend()\n",
    "\n",
    "# Show plot\n",
    "plt.grid(True)\n",
    "plt.show()\n",
    "\n"
   ]
  },
  {
   "cell_type": "markdown",
   "metadata": {},
   "source": [
    "### kaynakça\n",
    "\n",
    "https://www.youtube.com/watch?v=SvneCLZ3dLk  a şıkkı 1.yol\n",
    "\n",
    "https://www.youtube.com/watch?v=4fVQrH65aWU  a şıkkı 2.yol\n",
    "\n",
    "https://www.colorado.edu/amath/sites/default/files/attached-files/stochastic_simulation6.pdf\n",
    "\n",
    "https://rh8liuqy.github.io/Box_Muller_Algorithm.html"
   ]
  },
  {
   "cell_type": "markdown",
   "metadata": {},
   "source": [
    "### B ŞIKKI  \n",
    "\n",
    "Kabul red yönteminde  $v=g(v) \\sim cauchy $ olacak şekilde X rassal değişkeninden veri üretiniz"
   ]
  },
  {
   "cell_type": "code",
   "execution_count": 94,
   "metadata": {},
   "outputs": [
    {
     "name": "stdout",
     "output_type": "stream",
     "text": [
      "0.33\n"
     ]
    }
   ],
   "source": [
    "import numpy as np\n",
    "import math\n",
    "\n",
    "def cauchy_fx(x, theta):\n",
    "    return (1/np.pi)*(1/(1-(x-theta)**2))\n",
    "\n",
    "def cauchy_Fx(x, theta):\n",
    "    return (1/np.pi)*np.arctan(x-theta)+1/2\n",
    "\n",
    "def inverse_cauchyFx(x, theta):\n",
    "    return np.tan(np.pi*(x-0.5))+theta\n",
    "\n",
    "def generate_cauchy(n, theta):\n",
    "    dataset = np.random.uniform(0, 1, n)\n",
    "    generated_values = []\n",
    "    for i in dataset:\n",
    "        pvalue = inverse_cauchyFx(i, theta)\n",
    "        generated_values.append(pvalue)\n",
    "    return generated_values\n",
    "\n",
    "def normal_pdf(x, mu, sigma):\n",
    "    return 1 / (sigma * np.sqrt(2 * np.pi)) * np.exp(-0.5 * ((x - mu) / sigma)**2)\n",
    "\n",
    "def find_c(N, mu, sigma, theta):\n",
    "    dataset = np.random.uniform(0, 1, N)\n",
    "    generated_values = []\n",
    "    for i in dataset:\n",
    "        value = normal_pdf(i, mu, sigma) / cauchy_fx(i, theta) \n",
    "        generated_values.append(value)\n",
    "    return np.max(generated_values)\n",
    "\n",
    "\n",
    "kabul_dataset = []\n",
    "n = 100\n",
    "theta = 1\n",
    "mu = 0\n",
    "sigma = 1\n",
    "for i in range(0, n):\n",
    "    v = generate_cauchy(1, theta)[0]  \n",
    "    u = np.random.uniform(0, 1, 1)\n",
    "    gv = cauchy_fx(v, theta)\n",
    "    fv = normal_pdf(v, mu, sigma)\n",
    "    c = find_c(n, mu, sigma, theta)  \n",
    "    value = fv / (c * gv)\n",
    "    if u < value:\n",
    "        kabul_dataset.append(value)\n",
    "\n",
    "print(len(kabul_dataset) / n)\n"
   ]
  },
  {
   "cell_type": "code",
   "execution_count": 4,
   "metadata": {},
   "outputs": [
    {
     "name": "stdout",
     "output_type": "stream",
     "text": [
      "0.9\n"
     ]
    }
   ],
   "source": [
    "import numpy as np\n",
    "import math\n",
    "\n",
    "def gumbel_fx(x, mu, beta):\n",
    "    return (1/beta) * np.exp(-(x - mu) / beta) * np.exp(-np.exp(-(x - mu) / beta))\n",
    "\n",
    "def gumbel_Fx(x, mu, beta):\n",
    "    return np.exp(-np.exp(-(x - mu) / beta))\n",
    "\n",
    "def inverse_gumbelFx(x, mu, beta):\n",
    "    return mu - beta * np.log(-np.log(x))\n",
    "\n",
    "def generate_gumbel(n, mu, beta):\n",
    "    dataset = np.random.uniform(0, 1, n)\n",
    "    generated_values = []\n",
    "    for i in dataset:\n",
    "        pvalue = inverse_gumbelFx(i, mu, beta)\n",
    "        generated_values.append(pvalue)\n",
    "    return generated_values\n",
    "\n",
    "def normal_pdf(x, mu, sigma):\n",
    "    return 1 / (sigma * np.sqrt(2 * np.pi)) * np.exp(-0.5 * ((x - mu) / sigma)**2)\n",
    "\n",
    "def find_c(N, mu, sigma, theta):\n",
    "    dataset = np.random.uniform(0, 1, N)\n",
    "    generated_values = []\n",
    "    for i in dataset:\n",
    "        value = normal_pdf(i, mu, sigma) / gumbel_fx(i, mu, beta) \n",
    "        generated_values.append(value)\n",
    "    return np.max(generated_values)\n",
    "\n",
    "\n",
    "kabul_dataset = []\n",
    "n = 100\n",
    "mu = 0\n",
    "beta = 1\n",
    "sigma = 1\n",
    "for i in range(0, n):\n",
    "    v = generate_gumbel(1, mu, beta)[0]  # Access the first element of the generated list\n",
    "    u = np.random.uniform(0, 1, 1)\n",
    "    gv = gumbel_fx(v, mu, beta)\n",
    "    fv = normal_pdf(v, mu, sigma)\n",
    "    c = find_c(n, mu, sigma, beta)  # Corrected N\n",
    "    value = fv / (c * gv)\n",
    "    if u < value:\n",
    "        kabul_dataset.append(value)\n",
    "\n",
    "print(len(kabul_dataset) / n)\n"
   ]
  },
  {
   "cell_type": "markdown",
   "metadata": {},
   "source": [
    "https://en.wikipedia.org/wiki/Gumbel_distribution"
   ]
  },
  {
   "cell_type": "code",
   "execution_count": null,
   "metadata": {},
   "outputs": [],
   "source": []
  }
 ],
 "metadata": {
  "colab": {
   "provenance": []
  },
  "kernelspec": {
   "display_name": "Python 3 (ipykernel)",
   "language": "python",
   "name": "python3"
  },
  "language_info": {
   "codemirror_mode": {
    "name": "ipython",
    "version": 3
   },
   "file_extension": ".py",
   "mimetype": "text/x-python",
   "name": "python",
   "nbconvert_exporter": "python",
   "pygments_lexer": "ipython3",
   "version": "3.10.12"
  }
 },
 "nbformat": 4,
 "nbformat_minor": 1
}
