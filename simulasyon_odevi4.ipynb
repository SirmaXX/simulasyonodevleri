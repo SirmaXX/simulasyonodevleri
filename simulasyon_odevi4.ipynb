{
 "cells": [
  {
   "cell_type": "markdown",
   "metadata": {
    "id": "k8TCvVPPoXSQ"
   },
   "source": [
    "# <center> DENİZ BALCI SİMÜLASYON 4.ÖDEVİ</center>"
   ]
  },
  {
   "cell_type": "markdown",
   "metadata": {
    "id": "11fnsPxpoXST"
   },
   "source": [
    "# 1)  Paket Kurulumu ve Ön açıklama"
   ]
  },
  {
   "cell_type": "markdown",
   "metadata": {
    "id": "Szkz7yuIoXSU"
   },
   "source": [
    "Bütün hücreleri ayrı ayrı veya bütün halde çalıştırabilirsiniz.İlk olarak paketleri yükleyelim."
   ]
  },
  {
   "cell_type": "code",
   "execution_count": null,
   "metadata": {
    "id": "2_1XpcxDoXSV",
    "outputId": "574e36d5-9ce1-4fbb-951d-1725fd98b252"
   },
   "outputs": [
    {
     "name": "stdout",
     "output_type": "stream",
     "text": [
      "Defaulting to user installation because normal site-packages is not writeable\n",
      "Requirement already satisfied: scipy in /home/deniz/.local/lib/python3.10/site-packages (1.10.1)\n",
      "Requirement already satisfied: numpy<1.27.0,>=1.19.5 in /home/deniz/.local/lib/python3.10/site-packages (from scipy) (1.23.1)\n",
      "Defaulting to user installation because normal site-packages is not writeable\n",
      "Requirement already satisfied: numpy in /home/deniz/.local/lib/python3.10/site-packages (1.23.1)\n",
      "Defaulting to user installation because normal site-packages is not writeable\n",
      "Requirement already satisfied: matplotlib in /home/deniz/.local/lib/python3.10/site-packages (3.7.1)\n",
      "Requirement already satisfied: contourpy>=1.0.1 in /home/deniz/.local/lib/python3.10/site-packages (from matplotlib) (1.0.7)\n",
      "Requirement already satisfied: cycler>=0.10 in /home/deniz/.local/lib/python3.10/site-packages (from matplotlib) (0.11.0)\n",
      "Requirement already satisfied: fonttools>=4.22.0 in /home/deniz/.local/lib/python3.10/site-packages (from matplotlib) (4.39.4)\n",
      "Requirement already satisfied: kiwisolver>=1.0.1 in /home/deniz/.local/lib/python3.10/site-packages (from matplotlib) (1.4.4)\n",
      "Requirement already satisfied: numpy>=1.20 in /home/deniz/.local/lib/python3.10/site-packages (from matplotlib) (1.23.1)\n",
      "Requirement already satisfied: packaging>=20.0 in /home/deniz/.local/lib/python3.10/site-packages (from matplotlib) (23.0)\n",
      "Requirement already satisfied: pillow>=6.2.0 in /home/deniz/.local/lib/python3.10/site-packages (from matplotlib) (9.5.0)\n",
      "Requirement already satisfied: pyparsing>=2.3.1 in /home/deniz/.local/lib/python3.10/site-packages (from matplotlib) (3.0.9)\n",
      "Requirement already satisfied: python-dateutil>=2.7 in /home/deniz/.local/lib/python3.10/site-packages (from matplotlib) (2.8.2)\n",
      "Requirement already satisfied: six>=1.5 in /usr/lib/python3/dist-packages (from python-dateutil>=2.7->matplotlib) (1.16.0)\n"
     ]
    }
   ],
   "source": [
    "!pip install scipy\n",
    "!pip install numpy\n",
    "!pip install matplotlib"
   ]
  },
  {
   "cell_type": "markdown",
   "metadata": {},
   "source": [
    "# Soru1 \n",
    "\n",
    "\n",
    "Box-müller yöntemi (dönüşümü =nedir  anlatınız."
   ]
  },
  {
   "cell_type": "markdown",
   "metadata": {},
   "source": [
    "Box müller methodu ,standart normal dağılımdan veri üretilmek için oluşturulan bir yöntemdir.\n",
    "Kısacası yapılan işlem şu :değişken değiştirme yöntemi kullanılarak kartezyen koordinat sisteminden polar koordinat \n",
    "sistemine geçerek .Standart normal dağılım kullanılarak veri üretilir.\n"
   ]
  },
  {
   "cell_type": "markdown",
   "metadata": {},
   "source": [
    "## ÇIKIŞ NOKTASI"
   ]
  },
  {
   "cell_type": "markdown",
   "metadata": {},
   "source": [
    "$X \\sim N(0,1), \\quad U \\sim Uniform(0,1)$ ,$E \\sim üstel(1)$ dağılsın. $X_1,X_2$ normal dağılsın ve birbirinden bağımsız olsun.\n",
    "\n",
    "Olasılık yoğunluk fonksiyonları aşağıdaki gibi olsun . \n",
    "\\begin{equation}\n",
    "f_{x1}=\\frac{1}{\\sqrt{2\\pi \\sigma^2}}e^{\\frac{-x^2}{2}} \\quad  f_{x2}=\\frac{1}{\\sqrt{2\\pi \\sigma^2}}e^{\\frac{-x^2}{2}} \n",
    "\\end{equation}\n",
    "2 olasılık fonksiyonunun çarpımı aşağıdaki gibi olur.\n",
    "\n",
    "\\begin{equation}\n",
    "f_{x1,x2}=\\frac{1}{\\sqrt{2\\pi \\sigma^2}}e^{\\frac{-(x1^2+x2^2)}{2}} \n",
    "\\end{equation}\n",
    "\n",
    "Dönüşümle birlikte  (Z1,Z2)$\\sim cos(\\theta).sin(\\theta).R$\n",
    "\n",
    "\\begin{align*} det |J|= \\left| \\begin{array}{cc} \\frac{\\partial R cos (\\theta)}{\\partial \\theta} & \\frac{\\partial Rsin(\\theta)}{\\partial \\theta} \\\\ \\frac{\\partial R cos (\\theta)}{\\partial R} & \\frac{\\partial R sin(\\theta)}{\\partial R} \\end{array} \\right|  \\end{align*}\n",
    "\n",
    "\\begin{align*}= \\left( \\begin{array}{cc} -Rsin(\\theta) & Rcos(\\theta) \\\\ cos(\\theta) & sin(\\theta) \\end{array} \\right) =>|-Rsin^2 (\\theta)-Rcos^2(\\theta)| =R(cos^2(\\theta)+sin^2(\\theta))=R \\end{align*}\n",
    "\n",
    "$x1->Rcos(\\theta)  \\quad x2->Rsin(\\theta) $ olarak ele alalım."
   ]
  },
  {
   "cell_type": "markdown",
   "metadata": {},
   "source": [
    "Şimdi ise fx1,x2|J|  değişken değiştirme sonrasında aşağıdaki gibi sonuç elde edeceğiz.\n",
    "\n",
    "\n",
    "\\begin{equation}\n",
    "f_{x1,x2}=\\frac{1}{\\sqrt{2\\pi \\sigma^2}}e^{\\frac{-(x1^2+x2^2)}{2}} .R=\\frac{1}{\\sqrt{2\\pi \\sigma^2}}e^{\\frac{-(R^2)}{2}} .R\n",
    "\\end{equation}\n",
    "\n",
    "Ardından $E \\sim üstel(1)$\n",
    "\n",
    "\n",
    "\n",
    "$\\frac{1}{\\sqrt{2\\pi \\sigma^2}} \\sim Uniform(0,2\\pi)$ ve  $e^{\\frac{-(R^2)}{2}} .R \\sim \\sqrt(2Ei) $ şeklinde dağılır."
   ]
  },
  {
   "cell_type": "markdown",
   "metadata": {},
   "source": [
    "$ (X_1,X_2) \\sim cos(\\theta),sin(\\theta).R$  ve $\\theta \\sim uniform(0,2\\pi)$  olduğundan $X=cos(\\theta)\\sqrt(2Ei)$  şeklinde veri üreterek normal dağılımı simüle edebiliriz. "
   ]
  },
  {
   "cell_type": "markdown",
   "metadata": {},
   "source": [
    "# Soru 2\n",
    "a) $X \\sim N(\\mu,\\sigma^2)$ Normal dağılımına sahip olsun.Box müller yöntemi ile X rassal değişkeninden 100 birim veri üretiniz\n",
    "\n",
    "b) Kabul red yönteminde  $v=g(v) \\sim cauchy $ olacak şekilde X rassal değişkeninden veri üretiniz\n",
    "\n",
    "c) K-R  yönteminde  $g(v)$ 'yi siz belirleyiniz."
   ]
  },
  {
   "cell_type": "markdown",
   "metadata": {},
   "source": [
    "### A şıkkı 1.YOL"
   ]
  },
  {
   "cell_type": "code",
   "execution_count": 16,
   "metadata": {},
   "outputs": [
    {
     "name": "stderr",
     "output_type": "stream",
     "text": [
      "/tmp/ipykernel_53069/1557331182.py:15: DeprecationWarning: Conversion of an array with ndim > 0 to a scalar is deprecated, and will error in future. Ensure you extract a single element from your array before performing this operation. (Deprecated NumPy 1.25.)\n",
      "  out[i] = mu + X * sigma\n"
     ]
    },
    {
     "data": {
      "image/png": "[encoded data removed]",
      "text/plain": [
       "<Figure size 640x480 with 1 Axes>"
      ]
     },
     "metadata": {},
     "output_type": "display_data"
    }
   ],
   "source": [
    "import numpy as np\n",
    "import numpy.random as rd\n",
    "from scipy import stats\n",
    "import matplotlib.pyplot as plt\n",
    "\n",
    "def f(theta, E):\n",
    "    return np.cos(theta)* np.sqrt(2 * E)\n",
    "\n",
    "def BoxMuller(N, mu=0, sigma=1):\n",
    "    out = np.zeros(N)\n",
    "    for i in range(N):\n",
    "        theta = rd.uniform(low=0, high=2 * np.pi, size=1)\n",
    "        E = rd.exponential(scale=1 / 1, size=1)\n",
    "        X = f(theta, E)\n",
    "        out[i] = mu + X * sigma\n",
    "    return out\n",
    "\n",
    "def normaldist(x, mu, sigma):\n",
    "    return 1 / np.sqrt(2 * np.pi * sigma**2) * np.exp(-(x - mu)**2 / (2 * sigma**2))\n",
    "\n",
    "plt.figure()\n",
    "X = BoxMuller(1000, mu=0, sigma=1)\n",
    "plt.hist(X, bins=50, density=True)\n",
    "xx = np.linspace(-5, 5, 1000)\n",
    "plt.plot(xx, normaldist(xx, 0, 1))\n",
    "plt.show()\n"
   ]
  },
  {
   "cell_type": "markdown",
   "metadata": {},
   "source": [
    "### A şıkkı 2.yol"
   ]
  },
  {
   "cell_type": "code",
   "execution_count": 20,
   "metadata": {},
   "outputs": [],
   "source": [
    "U1= rd.uniform(low=0, high=1 , size=500)\n",
    "U2= rd.uniform(low=0, high=1 , size=500)\n",
    "X1=np.sqrt(-2*np.log(U1))*np.cos(2*np.pi*U2)\n",
    "X2=np.sqrt(-2*np.log(U1))*np.sin(2*np.pi*U2)\n",
    "X=np.concatenate((X1,X2),axis=0)\n"
   ]
  },
  {
   "cell_type": "code",
   "execution_count": 21,
   "metadata": {},
   "outputs": [
    {
     "data": {
      "image/png": "[encoded data removed]",
      "text/plain": [
       "<Figure size 640x480 with 1 Axes>"
      ]
     },
     "metadata": {},
     "output_type": "display_data"
    }
   ],
   "source": [
    "plt.figure()\n",
    "plt.hist(X, bins=50, density=True)\n",
    "xx = np.linspace(-5, 5, 1000)\n",
    "plt.plot(xx, normaldist(xx, 0, 1))\n",
    "plt.show()\n"
   ]
  },
  {
   "cell_type": "markdown",
   "metadata": {},
   "source": [
    "### kaynakça\n",
    "\n",
    "https://www.youtube.com/watch?v=SvneCLZ3dLk  a şıkkı 1.yol\n",
    "\n",
    "https://www.youtube.com/watch?v=4fVQrH65aWU  a şıkkı 2.yol\n",
    "\n",
    "https://www.colorado.edu/amath/sites/default/files/attached-files/stochastic_simulation6.pdf\n",
    "\n",
    "https://rh8liuqy.github.io/Box_Muller_Algorithm.html"
   ]
  },
  {
   "cell_type": "markdown",
   "metadata": {},
   "source": [
    "### B ŞIKKI  \n",
    "\n",
    "Kabul red yönteminde  $v=g(v) \\sim cauchy $ olacak şekilde X rassal değişkeninden veri üretiniz"
   ]
  },
  {
   "cell_type": "code",
   "execution_count": 10,
   "metadata": {},
   "outputs": [
    {
     "name": "stdout",
     "output_type": "stream",
     "text": [
      "0.47\n",
      "cauchy dağılımının beklenen değer ve varyansı tanımlı değildir.\n"
     ]
    }
   ],
   "source": [
    "import numpy as np\n",
    "import math\n",
    "\n",
    "def cauchy_fx(x, theta):\n",
    "    return (1/np.pi)*(1/(1-(x-theta)**2))\n",
    "\n",
    "def cauchy_Fx(x, theta):\n",
    "    return (1/np.pi)*np.arctan(x-theta)+1/2\n",
    "\n",
    "def inverse_cauchyFx(x, theta):\n",
    "    return np.tan(np.pi*(x-0.5))+theta\n",
    "\n",
    "def generate_cauchy(n, theta):\n",
    "    dataset = np.random.uniform(0, 1, n)\n",
    "    generated_values = []\n",
    "    for i in dataset:\n",
    "        pvalue = inverse_cauchyFx(i, theta)\n",
    "        generated_values.append(pvalue)\n",
    "    return generated_values\n",
    "\n",
    "def normal_pdf(x, mu, sigma):\n",
    "    return 1 / (sigma * np.sqrt(2 * np.pi)) * np.exp(-0.5 * ((x - mu) / sigma)**2)\n",
    "\n",
    "def find_c(N, mu, sigma, theta):\n",
    "    dataset = np.random.uniform(0, 1, N)\n",
    "    generated_values = []\n",
    "    for i in dataset:\n",
    "        value = normal_pdf(i, mu, sigma) / cauchy_fx(i, theta) \n",
    "        generated_values.append(value)\n",
    "    return np.max(generated_values)\n",
    "\n",
    "\n",
    "kabul_dataset = []\n",
    "n = 100\n",
    "theta = 1\n",
    "mu = 0\n",
    "sigma = 1\n",
    "for i in range(0, n):\n",
    "    v = generate_cauchy(1, theta)[0]  \n",
    "    u = np.random.uniform(-5, 5, 1)\n",
    "    gv = cauchy_fx(v, theta)\n",
    "    fv = normal_pdf(v, mu, sigma)\n",
    "    c = find_c(n, mu, sigma, theta)  \n",
    "    value = fv / (c * gv)\n",
    "    if u < value:\n",
    "        kabul_dataset.append(value)\n",
    "        \n",
    "\n",
    "print(len(kabul_dataset) / n)\n",
    "\n",
    "\n",
    "print(\"cauchy dağılımının beklenen değer ve varyansı tanımlı değildir.\")\n"
   ]
  },
  {
   "cell_type": "code",
   "execution_count": 46,
   "metadata": {},
   "outputs": [
    {
     "name": "stdout",
     "output_type": "stream",
     "text": [
      "0.5907692307692308\n",
      "0.5861538461538461\n",
      "0.5707692307692308\n",
      "0.6046153846153847\n",
      "0.5876923076923077\n",
      "0.6030769230769231\n",
      "0.6015384615384616\n",
      "0.5784615384615385\n",
      "0.6030769230769231\n",
      "0.5876923076923077\n",
      "0.5938461538461538\n",
      "0.5815384615384616\n",
      "0.6046153846153847\n",
      "0.5815384615384616\n",
      "0.5846153846153846\n",
      "0.5984615384615385\n",
      "0.5923076923076923\n",
      "0.5923076923076923\n",
      "0.5723076923076923\n",
      "0.5753846153846154\n",
      "0.5923076923076923\n",
      "0.5938461538461538\n",
      "0.583076923076923\n",
      "0.6107692307692307\n",
      "0.5476923076923077\n",
      "0.6092307692307692\n",
      "0.5846153846153846\n",
      "0.5676923076923077\n",
      "0.5846153846153846\n",
      "0.583076923076923\n",
      "0.5769230769230769\n",
      "0.5923076923076923\n",
      "0.5723076923076923\n",
      "0.5876923076923077\n",
      "0.6061538461538462\n",
      "0.5923076923076923\n",
      "0.5784615384615385\n",
      "0.6092307692307692\n",
      "0.6276923076923077\n",
      "0.5615384615384615\n",
      "0.6046153846153847\n",
      "0.5861538461538461\n",
      "0.5676923076923077\n",
      "0.6030769230769231\n",
      "0.5738461538461539\n",
      "0.5723076923076923\n",
      "0.5692307692307692\n",
      "0.5953846153846154\n",
      "0.6030769230769231\n",
      "0.5815384615384616\n",
      "0.6123076923076923\n",
      "0.5492307692307692\n",
      "0.5984615384615385\n",
      "0.58\n",
      "0.583076923076923\n",
      "0.583076923076923\n",
      "0.5769230769230769\n",
      "0.5784615384615385\n",
      "0.5907692307692308\n",
      "0.583076923076923\n",
      "0.6076923076923076\n",
      "0.5784615384615385\n",
      "0.6061538461538462\n",
      "0.5892307692307692\n",
      "0.5984615384615385\n",
      "0.6\n",
      "0.5953846153846154\n",
      "0.6076923076923076\n",
      "0.6353846153846154\n",
      "0.583076923076923\n",
      "0.6\n",
      "0.6138461538461538\n",
      "0.62\n",
      "0.6030769230769231\n",
      "0.6169230769230769\n",
      "0.5615384615384615\n",
      "0.5846153846153846\n",
      "0.6061538461538462\n",
      "0.5646153846153846\n",
      "0.6123076923076923\n",
      "0.6046153846153847\n",
      "0.6061538461538462\n",
      "0.54\n",
      "0.6092307692307692\n",
      "0.6061538461538462\n",
      "0.5738461538461539\n",
      "0.6030769230769231\n",
      "0.5938461538461538\n",
      "0.6276923076923077\n",
      "0.5661538461538461\n",
      "0.5753846153846154\n",
      "0.5846153846153846\n",
      "0.5738461538461539\n",
      "0.5661538461538461\n",
      "0.5430769230769231\n",
      "0.5846153846153846\n",
      "0.5692307692307692\n",
      "0.6\n",
      "0.6061538461538462\n",
      "0.6015384615384616\n"
     ]
    },
    {
     "data": {
      "text/plain": [
       "38327"
      ]
     },
     "execution_count": 46,
     "metadata": {},
     "output_type": "execute_result"
    }
   ],
   "source": [
    "import numpy as np\n",
    "import math\n",
    "\n",
    "def gumbel_fx(x, mu, beta):\n",
    "    return (1/beta) * np.exp(-(x - mu) / beta) * np.exp(-np.exp(-(x - mu) / beta))\n",
    "\n",
    "def gumbel_Fx(x, mu, beta):\n",
    "    return np.exp(-np.exp(-(x - mu) / beta))\n",
    "\n",
    "def inverse_gumbelFx(x, mu, beta):\n",
    "    return mu - beta * np.log(-np.log(x))\n",
    "\n",
    "def generate_gumbel(n, mu, beta):\n",
    "    dataset = np.random.uniform(0, 1, n)\n",
    "    generated_values = []\n",
    "    for i in dataset:\n",
    "        pvalue = inverse_gumbelFx(i, mu, beta)\n",
    "        generated_values.append(pvalue)\n",
    "    return generated_values\n",
    "\n",
    "def normal_pdf(x, mu, sigma):\n",
    "    return 1 / (sigma * np.sqrt(2 * np.pi)) * np.exp(-0.5 * ((x - mu) / sigma)**2)\n",
    "\n",
    "def find_c(N, mu, sigma, theta):\n",
    "    dataset = np.random.uniform(0, 1, N)\n",
    "    generated_values = []\n",
    "    for i in dataset:\n",
    "        value = normal_pdf(i, mu, sigma) / gumbel_fx(i, mu, beta) \n",
    "        generated_values.append(value)\n",
    "    return np.max(generated_values)\n",
    "\n",
    "\n",
    "\n",
    "\n",
    "def AR(n, mu, beta, sigma):\n",
    "    kabul_dataset = []\n",
    "    \n",
    "    # Assuming generate_gumbel, gumbel_fx, normal_pdf, and find_c are defined elsewhere\n",
    "    c = find_c(n, mu, sigma, beta)  # Call find_c outside the loop\n",
    "    \n",
    "    for i in range(n):\n",
    "        v = generate_gumbel(1, mu, beta)[0]  # Access the first element of the generated list\n",
    "        u = np.random.uniform(-5, 5)  # Generate a single uniform random variable\n",
    "        gv = gumbel_fx(v, mu, beta)\n",
    "        fv = normal_pdf(v, mu, sigma)\n",
    "        value = fv / (c * gv)\n",
    "        \n",
    "        if u < value:\n",
    "            kabul_dataset.append(value)\n",
    "    \n",
    "    print(len(kabul_dataset) / n)\n",
    "    return kabul_dataset\n",
    "\n",
    "    \n",
    "    \n",
    "    \n",
    "n = 650\n",
    "mu = 0\n",
    "beta = 1\n",
    "sigma = 1\n",
    "sonveriseti=[]\n",
    "for i in range(0,100):\n",
    "   dataset=AR(n,mu,beta,sigma)\n",
    "   sonveriseti.extend(dataset)\n",
    "\n",
    "len(sonveriseti)\n"
   ]
  },
  {
   "cell_type": "markdown",
   "metadata": {},
   "source": [
    "https://en.wikipedia.org/wiki/Gumbel_distribution\n",
    "\n",
    "\t\n",
    "$E(x)= \\mu +\\beta \\gamma$\n",
    "$\\gamma$ is the Euler–Mascheroni sabitidir.\n",
    "\n",
    "\n",
    "$Var(x)=\\pi^2/6 * \\beta^2$\n",
    "\n",
    "skewness $ \\approx 1.14$\n",
    "\n",
    "Excess kurtosis $=12/5 $\n"
   ]
  },
  {
   "cell_type": "code",
   "execution_count": 47,
   "metadata": {},
   "outputs": [
    {
     "name": "stdout",
     "output_type": "stream",
     "text": [
      "Defaulting to user installation because normal site-packages is not writeable\n",
      "Requirement already satisfied: scipy in /home/deniz/.local/lib/python3.10/site-packages (1.10.1)\n",
      "Requirement already satisfied: numpy<1.27.0,>=1.19.5 in /home/deniz/.local/lib/python3.10/site-packages (from scipy) (1.26.4)\n"
     ]
    }
   ],
   "source": [
    "!pip install scipy"
   ]
  },
  {
   "cell_type": "code",
   "execution_count": 50,
   "metadata": {},
   "outputs": [
    {
     "name": "stdout",
     "output_type": "stream",
     "text": [
      "örneklem değerleri \n",
      " ----------\n",
      "ortalama:0.9677880673882925\n",
      "varyans :2.364522954058004\n",
      "skewness :0.1487528085435489\n",
      "exceed_kurtosis :21.443409250361867\n",
      "---------- \n",
      " anakütle \n",
      " ----------\n",
      "ortalama  0.577215664901533 \n",
      "varyans  1.6449340668482264 \n",
      " skewness 1.14\n",
      " exceed_kurtosis 2.4\n"
     ]
    }
   ],
   "source": [
    "import sympy\n",
    "import math\n",
    "from scipy.stats import norm, kurtosis,skew\n",
    "def expected_value(mu, beta):\n",
    "    gamma = sympy.EulerGamma.evalf() # Euler-Mascheroni constant\n",
    "    return mu + beta * gamma\n",
    "\n",
    "def variance(beta):\n",
    "    pi_squared_over_6 = (math.pi ** 2) / 6\n",
    "    return pi_squared_over_6 * (beta ** 2)\n",
    "\n",
    "skewness=1.14\n",
    "exceed_kurtosis=12/5\n",
    "print(\"örneklem değerleri \\n ----------\")\n",
    "print(f\"ortalama:{np.mean(sonveriseti)}\")\n",
    "print(f\"varyans :{np.var(sonveriseti)}\")\n",
    "print(f\"skewness :{skew(sonveriseti)}\")\n",
    "print(f\"exceed_kurtosis :{kurtosis(sonveriseti)}\")\n",
    "\n",
    "print(\"--------- \\n anakütle \\n ----------\")\n",
    "print(f\"ortalama  {expected_value(mu, beta) } \")  \n",
    "print(f\"varyans  {variance(beta)} \")  \n",
    "print(f\" skewness {skewness}\" )\n",
    "print(f\" exceed_kurtosis {exceed_kurtosis}\" )"
   ]
  },
  {
   "cell_type": "code",
   "execution_count": null,
   "metadata": {},
   "outputs": [],
   "source": []
  }
 ],
 "metadata": {
  "colab": {
   "provenance": []
  },
  "kernelspec": {
   "display_name": "Python 3 (ipykernel)",
   "language": "python",
   "name": "python3"
  },
  "language_info": {
   "codemirror_mode": {
    "name": "ipython",
    "version": 3
   },
   "file_extension": ".py",
   "mimetype": "text/x-python",
   "name": "python",
   "nbconvert_exporter": "python",
   "pygments_lexer": "ipython3",
   "version": "3.10.12"
  }
 },
 "nbformat": 4,
 "nbformat_minor": 1
}
