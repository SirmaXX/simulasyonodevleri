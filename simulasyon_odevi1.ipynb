{
 "cells": [
  {
   "cell_type": "markdown",
   "metadata": {},
   "source": [
    "# <center> DENİZ BALCI SİMÜLASYON 1.ÖDEVİ</center>"
   ]
  },
  {
   "cell_type": "markdown",
   "metadata": {},
   "source": [
    "# 0)  Paket Kurulumu ve Ön açıklama"
   ]
  },
  {
   "cell_type": "markdown",
   "metadata": {},
   "source": [
    "Bütün hücreleri ayrı ayrı veya bütün halde çalıştırabilirsiniz.İlk olarak paketleri yükleyelim."
   ]
  },
  {
   "cell_type": "code",
   "execution_count": 1,
   "metadata": {},
   "outputs": [
    {
     "name": "stdout",
     "output_type": "stream",
     "text": [
      "Defaulting to user installation because normal site-packages is not writeable\n",
      "Requirement already satisfied: scipy in /home/deniz/.local/lib/python3.10/site-packages (1.10.1)\n",
      "Requirement already satisfied: numpy<1.27.0,>=1.19.5 in /home/deniz/.local/lib/python3.10/site-packages (from scipy) (1.23.1)\n",
      "\n",
      "\u001b[1m[\u001b[0m\u001b[34;49mnotice\u001b[0m\u001b[1;39;49m]\u001b[0m\u001b[39;49m A new release of pip is available: \u001b[0m\u001b[31;49m23.3.1\u001b[0m\u001b[39;49m -> \u001b[0m\u001b[32;49m24.0\u001b[0m\n",
      "\u001b[1m[\u001b[0m\u001b[34;49mnotice\u001b[0m\u001b[1;39;49m]\u001b[0m\u001b[39;49m To update, run: \u001b[0m\u001b[32;49mpython3 -m pip install --upgrade pip\u001b[0m\n",
      "Defaulting to user installation because normal site-packages is not writeable\n",
      "Requirement already satisfied: numpy in /home/deniz/.local/lib/python3.10/site-packages (1.23.1)\n",
      "\n",
      "\u001b[1m[\u001b[0m\u001b[34;49mnotice\u001b[0m\u001b[1;39;49m]\u001b[0m\u001b[39;49m A new release of pip is available: \u001b[0m\u001b[31;49m23.3.1\u001b[0m\u001b[39;49m -> \u001b[0m\u001b[32;49m24.0\u001b[0m\n",
      "\u001b[1m[\u001b[0m\u001b[34;49mnotice\u001b[0m\u001b[1;39;49m]\u001b[0m\u001b[39;49m To update, run: \u001b[0m\u001b[32;49mpython3 -m pip install --upgrade pip\u001b[0m\n"
     ]
    }
   ],
   "source": [
    "!pip install scipy\n",
    "!pip install numpy"
   ]
  },
  {
   "cell_type": "markdown",
   "metadata": {},
   "source": [
    "## 1)Lineer kongrüans üreteçler"
   ]
  },
  {
   "cell_type": "code",
   "execution_count": 2,
   "metadata": {},
   "outputs": [
    {
     "name": "stdout",
     "output_type": "stream",
     "text": [
      "121\n",
      "115\n",
      "85\n",
      "58\n",
      "46\n",
      "109\n",
      "55\n",
      "31\n",
      "34\n",
      "49\n",
      "[121, 115, 85, 58, 46, 109, 55, 31, 34, 49]\n"
     ]
    }
   ],
   "source": [
    "def linearkong(seed: float, a: int, b: int, m: int, n: int) -> list:\n",
    "    generated_numbers = []\n",
    "    for _ in range(n):\n",
    "        x = (a * seed + b) % m\n",
    "        print(x)\n",
    "        seed = x\n",
    "        generated_numbers.append(seed)\n",
    "    return generated_numbers\n",
    "\n",
    "\n",
    "print(linearkong(73, 5, 2, 123, 10))  "
   ]
  },
  {
   "cell_type": "markdown",
   "metadata": {},
   "source": [
    "## 2)DAĞILIM SİMÜLASYONLARI"
   ]
  },
  {
   "cell_type": "markdown",
   "metadata": {},
   "source": [
    "Ödevimizde 5 kesikli 5 sürekli dağılımın simülasyon hazırlanması istenilmişti."
   ]
  },
  {
   "cell_type": "markdown",
   "metadata": {},
   "source": [
    "### 2.1)3 parametreli weibull dağılımı"
   ]
  },
  {
   "cell_type": "markdown",
   "metadata": {},
   "source": [
    "$$ F(t,\\alpha,\\beta,\\eta)= \\left\\{ \\begin{array}{cl}\n",
    "1-e^{-((t-\\alpha)/ \\eta)} &  t > \\alpha \\\\\n",
    "0 &  t \\leq \\alpha\n",
    "\\end{array} \\right.$$\n",
    "\n",
    "\n",
    "\n",
    "$$f(t,\\alpha,\\beta,\\eta)= \\left\\{ \\begin{array}{cl}\n",
    "      \\frac{\\beta}{\\eta}(\\frac{t-\\alpha}{\\eta})^{\\beta-1} e^{-((t-\\alpha)/ \\eta)}&  t > \\alpha \\\\\n",
    "0 &  t \\leq \\alpha\n",
    "\\end{array} \\right.$$\n",
    "\n",
    "$$ F(x)^{-1}=ln(1-x)+\\alpha$$\n",
    "\n",
    "$$\\mu=\\eta\\Gamma(1+\\frac{1}{\\beta})+\\alpha$$\n",
    "\n",
    "\n",
    "$$\\sigma^2=\\eta^2[\\Gamma(1+\\frac{2}{\\beta})-\\Gamma^2(1+\\frac{1}{\\beta}) ]$$\n",
    "\n",
    "\n",
    "\n"
   ]
  },
  {
   "cell_type": "code",
   "execution_count": 3,
   "metadata": {},
   "outputs": [
    {
     "name": "stdout",
     "output_type": "stream",
     "text": [
      "Örneklem parametreleri\n",
      "Ortalama :3.6334 -Varyans:1.8337 -çarpıklık: 0.5439 -basıklık :-0.0987\n",
      "Anakütle  parametreleri\n",
      "Ortalama :3.6587 -Varyans:1.9314 \n"
     ]
    }
   ],
   "source": [
    "import numpy as np\n",
    "import scipy.stats\n",
    "import math\n",
    "\n",
    "def mean_of_threeweibull(alpha: float, beta: float, eta: float)->float:\n",
    "    assert all(val >= 0 for val in [alpha, beta, eta])\n",
    "    \n",
    "    result = eta * (np.math.gamma(1 + (1 / beta))) + alpha\n",
    "    return result\n",
    "\n",
    "def variance_of_threeweibull(alpha: float, beta: float, eta: float)->float:\n",
    "    assert all(val >= 0 for val in [alpha, beta, eta])\n",
    "    \n",
    "    result = (eta ** 2) * (np.math.gamma(1 + (2 / beta)) - (np.math.gamma(1 + (1 / beta))) ** 2)\n",
    "    return result\n",
    "\n",
    "def inverse_of_threeweibull(p: float, alpha: float, beta: float, eta: float)->float:\n",
    "    assert all(val >= 0 for val in [alpha, beta, eta])\n",
    "    \n",
    "    quantile_value = alpha + eta * (-np.log(1 - p)) ** (1 / beta)\n",
    "    return quantile_value\n",
    "\n",
    "\n",
    "def threeweibulldatagenerator(n:int, alpha: float, beta: float, eta: float)->list:\n",
    "    assert all(val >= 0 for val in [alpha, beta, eta]) and n > 0\n",
    "    \n",
    "    generated_data = np.random.uniform(0, 1, n)\n",
    "    dataset = [inverse_of_threeweibull(i, alpha, beta, eta) for i in generated_data]\n",
    "    return dataset\n",
    "\n",
    "## FONKSİYON PARAMETRELERİ\n",
    "n=1000\n",
    "alpha=1\n",
    "beta=2\n",
    "eta=3\n",
    "x=threeweibulldatagenerator(n,alpha,beta,eta)\n",
    "\n",
    "## ÖRNEKLEM PARAMETRELERİ\n",
    "\n",
    "m1 = np.mean(x)\n",
    "m2 = np.var(x)\n",
    "m3 = scipy.stats.skew(x)\n",
    "m4 = scipy.stats.kurtosis(x)\n",
    "## ANAKÜTLE PARAMETRELERİ\n",
    "M1=mean_of_threeweibull(alpha, beta, eta)\n",
    "M2=variance_of_threeweibull(alpha, beta, eta)\n",
    "\n",
    "\n",
    "\n",
    "print(\"Örneklem parametreleri\")\n",
    "print(\"Ortalama :{:.4f} -Varyans:{:.4f} -çarpıklık: {:.4f} -basıklık :{:.4f}\".format(m1,m2,m3,m4))\n",
    "print(\"Anakütle  parametreleri\")\n",
    "print(\"Ortalama :{:.4f} -Varyans:{:.4f} \".format(M1, M2))"
   ]
  },
  {
   "cell_type": "markdown",
   "metadata": {},
   "source": [
    "### 2.2)Laplace Dağılımı"
   ]
  },
  {
   "cell_type": "markdown",
   "metadata": {},
   "source": [
    "$$ F(a,b)= \\left\\{ \\begin{array}{cl}\n",
    "1/2e^{-((a-x)/b) } &  x < a \\\\\n",
    "1-1/2e^{-((a-x)/b) } &  x \\ge a\n",
    "\\end{array} \\right.$$\n",
    "\n",
    "$$ F(a,b)^{-1}= \\left\\{ \\begin{array}{cl}\n",
    "2ln(2y)+a &  x < a \\\\\n",
    "bln(2(1-y))+a &  x \\ge a\n",
    "\\end{array} \\right.$$\n",
    "\n",
    "\n",
    "$$ f(x)=1/2b-e^{-((|a-x|)/b) }  \\quad -\\infty<x<\\infty $$\n",
    "$$ \\mu =a$$\n",
    "$$ \\sigma^2 =2b^2$$\n",
    "r inci ortalama etrafındaki moment\n",
    "$$ \\mu_r= \\left\\{ \\begin{array}{cl}\n",
    "r!b^r &  r \\quad \\text{çift} \\\\\n",
    "0 &  r \\quad \\text{tek}\n",
    "\\end{array} \\right.      $$"
   ]
  },
  {
   "cell_type": "code",
   "execution_count": 4,
   "metadata": {},
   "outputs": [
    {
     "name": "stdout",
     "output_type": "stream",
     "text": [
      "Örneklem parametreleri\n",
      "Ortalama :-0.6667 -Varyans:5.4929 -çarpıklık: -0.3729 -basıklık :-1.1769\n",
      "Anakütle  parametreleri\n",
      "Ortalama :1.0000 -Varyans:8.0000 \n"
     ]
    }
   ],
   "source": [
    "import numpy as np\n",
    "import scipy.stats\n",
    "\n",
    "def laplacecdf(a: float, b: float, x: float) -> float:\n",
    "    if x < a:\n",
    "        return (1 / (2)) * math.exp(-(a - x) / b)\n",
    "    else:\n",
    "        return 1 - (1 / (2)) * math.exp(-(a - x) / b)\n",
    "\n",
    "\n",
    "def laplacepdf(a: float, b: float, x: float) -> float:\n",
    "    return (1 / (2 * b)) * math.exp(-abs((a - x) / b))\n",
    "\n",
    "\n",
    "def laplacemean(a: float) -> float:\n",
    "    return a\n",
    "\n",
    "\n",
    "def laplacevariance(b: float) -> float:\n",
    "    return 2 * (b * b)\n",
    "\n",
    "\n",
    "def laplacemoment(a: float, b: float, r: int) -> float:\n",
    "    if r % 2 == 0:\n",
    "        return math.factorial(r) * (math.pow(r, 2))\n",
    "    else:\n",
    "        return 0\n",
    "    \n",
    "def inverse_laplacecdf(x: float, a: float, b: float)-> float:\n",
    "    if x <a:\n",
    "        return 2 * np.log(2 * x) + a\n",
    "    else:\n",
    "        return b * np.log(2 * (1 - x)) + a\n",
    "    \n",
    "    \n",
    "    \n",
    "def laplacedatagenerator(n:int, a: float, b: float)->list:   \n",
    "    generated_data = np.random.uniform(0, 1, n)\n",
    "    dataset = [inverse_laplacecdf(i, a, b) for i in generated_data]\n",
    "    return dataset\n",
    "\n",
    "\n",
    "\n",
    "\n",
    "## FONKSİYON PARAMETRELERİ\n",
    "n=10\n",
    "a=1\n",
    "b=2\n",
    "\n",
    "x=laplacedatagenerator(n,a,b)\n",
    "\n",
    "## ÖRNEKLEM PARAMETRELERİ\n",
    "\n",
    "m1 = np.mean(x)\n",
    "m2 = np.var(x)\n",
    "m3 = scipy.stats.skew(x)\n",
    "m4 = scipy.stats.kurtosis(x)\n",
    "## ANAKÜTLE PARAMETRELERİ\n",
    "M1=laplacemean(a)\n",
    "M2=laplacevariance(b)\n",
    "\n",
    "\n",
    "\n",
    "print(\"Örneklem parametreleri\")\n",
    "print(\"Ortalama :{:.4f} -Varyans:{:.4f} -çarpıklık: {:.4f} -basıklık :{:.4f}\".format(m1,m2,m3,m4))\n",
    "print(\"Anakütle  parametreleri\")\n",
    "print(\"Ortalama :{:.4f} -Varyans:{:.4f} \".format(M1, M2))\n"
   ]
  },
  {
   "cell_type": "markdown",
   "metadata": {},
   "source": [
    "### 2.3)Rayleigh Dağılım"
   ]
  },
  {
   "cell_type": "markdown",
   "metadata": {},
   "source": [
    "$$ F(x)=1-exp(-x^2/(2b^2))$$\n",
    "$$ f(x)= (x/b^2)exp(-x^2/(2b^2))$$\n",
    "$$ F(x)^{-1}=\\sqrt{-2b^2(ln(1-y))}$$\n",
    "$$\\E(X^n) = b^n 2^{n/2} \\Gamma(1 + n/2)$$\n",
    "$$  \\mu=b(\\pi/2)^{(1/2)}$$\n",
    "$$  \\sigma^2= (2-(\\pi/2)^{(1/2)}$$\n",
    "$$ \\skw(X) = 2 \\sqrt{\\pi}(\\pi - 3) \\big/ (4 - \\pi)^{3/2} \\approx 0.6311$$"
   ]
  },
  {
   "cell_type": "code",
   "execution_count": 5,
   "metadata": {},
   "outputs": [
    {
     "name": "stdout",
     "output_type": "stream",
     "text": [
      "Örneklem parametreleri\n",
      "Ortalama :1.2530 -Varyans:0.4283 -çarpıklık: 0.6251 -basıklık :0.1682\n",
      "Anakütle  parametreleri\n",
      "Ortalama :1.2533 -Varyans:0.8893 -çarpıklık: 0.6311 \n"
     ]
    }
   ],
   "source": [
    "import numpy as np\n",
    "import scipy.stats\n",
    "\n",
    "def rayleigh_cdf(x:float, b:float)->float:\n",
    "    return 1 - np.exp(-x**2 / (2 * b**2))\n",
    "\n",
    "def rayleigh_pdf(x:float, b:float)->float:\n",
    "    return (x / (b**2)) * np.exp(-x**2 / (2 * b**2))\n",
    "\n",
    "def rayleigh_mean(b:float)->float:\n",
    "    return b * np.sqrt(np.pi / 2)\n",
    "\n",
    "def rayleigh_variance(b:float)->float:\n",
    "    return 2 * (1 - np.pi / (4 * np.sqrt(2)))\n",
    "\n",
    "\n",
    "def inverse_rayleigh(x:float, b:float)->float:\n",
    "    return np.sqrt(-2 * b**2 * np.log(1 - x))\n",
    "\n",
    "\n",
    "\n",
    "def rayleighdatagenerator(n:int, b:float)->list:   \n",
    "    generated_data = np.random.uniform(0, 1, n)\n",
    "    dataset = [inverse_rayleigh(i,b) for i in generated_data]\n",
    "    return dataset\n",
    "\n",
    "## FONKSİYON PARAMETRELERİ\n",
    "n=10000\n",
    "b = 1.0  \n",
    "\n",
    "x=rayleighdatagenerator(n,b)\n",
    "## ÖRNEKLEM PARAMETRELERİ\n",
    "\n",
    "m1 = np.mean(x)\n",
    "m2 = np.var(x)\n",
    "m3 = scipy.stats.skew(x)\n",
    "m4 = scipy.stats.kurtosis(x)\n",
    "\n",
    "## ANAKÜTLE PARAMETRELERİ\n",
    "M1= rayleigh_mean(b)\n",
    "M2=rayleigh_variance(b)\n",
    "\n",
    "print(\"Örneklem parametreleri\")\n",
    "print(\"Ortalama :{:.4f} -Varyans:{:.4f} -çarpıklık: {:.4f} -basıklık :{:.4f}\".format(m1,m2,m3,m4))\n",
    "print(\"Anakütle  parametreleri\")\n",
    "print(\"Ortalama :{:.4f} -Varyans:{:.4f} -çarpıklık: 0.6311 \".format(M1, M2,))\n",
    "\n"
   ]
  },
  {
   "cell_type": "markdown",
   "metadata": {},
   "source": [
    "### 2.4)General Hyperbolic Secant Distribution"
   ]
  },
  {
   "cell_type": "markdown",
   "metadata": {},
   "source": [
    "$$ F(x) = \\frac{2}{\\pi} \\arctan\\left\\{\\exp\\left[\\frac{\\pi}{2}\\left(\\frac{x - \\mu}{\\sigma}\\right)\\right]\\right\\}, \\quad x \\in \\R $$\n",
    "$$ F(x)^{-1} =2\\sigma/ \\pi ln(tan( \\pi,y/2))+\\mu, \\quad x \\in \\R $$\n",
    "$$ f(x) = \\frac{1}{2 \\sigma} \\sech\\left[\\frac{\\pi}{2}\\left(\\frac{x - \\mu}{\\sigma}\\right)\\right], \\quad x \\in \\R$$\n",
    "$$ M(t) = e^{\\mu t} \\sec(\\sigma t), \\quad t \\in \\left(-\\frac{\\pi}{2 \\sigma}, \\frac{\\pi}{2 \\sigma}\\right) $$ \n",
    "$$ \\E(X) = \\mu $$\n",
    "$$ \\var(X) = \\sigma^2$$\n",
    "$$\\skw(X) = 0 $$\n",
    "$$\\kur(X) = 5$$"
   ]
  },
  {
   "cell_type": "code",
   "execution_count": 6,
   "metadata": {},
   "outputs": [
    {
     "name": "stdout",
     "output_type": "stream",
     "text": [
      "Örneklem parametreleri\n",
      "Ortalama :2.0806 -Varyans:4.1997 -çarpıklık: 0.0947 -basıklık :1.8218\n",
      "Anakütle  parametreleri\n",
      "Ortalama :2.0000 -Varyans:4.0000 \n"
     ]
    }
   ],
   "source": [
    "import numpy as np\n",
    "import scipy.stats\n",
    "\n",
    "\n",
    "\n",
    "def f(x:float, mu:float, sigma:float)->float:\n",
    "    return 1 / (2 * sigma) * 1 / np.cosh(np.pi / 2 * (x - mu) / sigma)\n",
    "\n",
    "def F(x:float, mu:float, sigma:float)->float:\n",
    "    arg = np.pi / 2 * (x - mu) / sigma\n",
    "    return 2 / np.pi * np.arctan(np.exp(arg))\n",
    "\n",
    "def hyperbolic_inverse(x:float, mu:float, sigma:float)->float:\n",
    "    return 2 * sigma / np.pi * np.log(np.tan(np.pi * x / 2)) + mu\n",
    "\n",
    "\n",
    "def hyperbolicdatagenerator(n:int,mu:float,sigma:float)->list:   \n",
    "    generated_data = np.random.uniform(0, 1, n)\n",
    "    dataset = [hyperbolic_inverse(i,mu,sigma) for i in generated_data]\n",
    "    return dataset\n",
    "\n",
    "\n",
    "## FONKSİYON PARAMETRELERİ\n",
    "n=1000\n",
    "mu=2\n",
    "sigma=2\n",
    "\n",
    "x=hyperbolicdatagenerator(n,mu,sigma)\n",
    "\n",
    "## ÖRNEKLEM PARAMETRELERİ\n",
    "\n",
    "m1 = np.mean(x)\n",
    "m2 = np.var(x)\n",
    "m3 = scipy.stats.skew(x)\n",
    "m4 = scipy.stats.kurtosis(x)\n",
    "## ANAKÜTLE PARAMETRELERİ\n",
    "M1=mu\n",
    "M2=sigma**sigma\n",
    "\n",
    "\n",
    "\n",
    "print(\"Örneklem parametreleri\")\n",
    "print(\"Ortalama :{:.4f} -Varyans:{:.4f} -çarpıklık: {:.4f} -basıklık :{:.4f}\".format(m1,m2,m3,m4))\n",
    "print(\"Anakütle  parametreleri\")\n",
    "print(\"Ortalama :{:.4f} -Varyans:{:.4f} \".format(M1, M2))\n",
    "\n",
    "\n",
    "\n"
   ]
  },
  {
   "cell_type": "markdown",
   "metadata": {},
   "source": [
    "### 2.5)Lojistik Dağılım"
   ]
  },
  {
   "cell_type": "markdown",
   "metadata": {},
   "source": [
    "$$ F(X)=1/2+1/2tanh(1/2(x-a)/b)$$\n",
    "$$ F(x)^{-1}=2b.arctanh(2(y-1/2))+a $$\n",
    "$$ f(X)=sech^2((x-a)/2b) / 4b$$\n",
    "$$ \\mu=a$$\n",
    "$$  \\sigma^2=\\pi^2b^2/3$$"
   ]
  },
  {
   "cell_type": "code",
   "execution_count": 7,
   "metadata": {},
   "outputs": [
    {
     "name": "stdout",
     "output_type": "stream",
     "text": [
      "Örneklem parametreleri\n",
      "Ortalama :-0.0001 -Varyans:3.0880 -çarpıklık: 0.0371 -basıklık :0.6548\n",
      "Anakütle  parametreleri\n",
      "Ortalama :0.0000 -Varyans:3.2899 \n"
     ]
    }
   ],
   "source": [
    "import numpy as np\n",
    "import scipy.stats\n",
    "\n",
    "def logistic_cdf(x:float, a:float, b:float)->float:\n",
    "    return 0.5 + 0.5 * np.tanh(0.5 * (x - a) / b)\n",
    "\n",
    "def logistic_pdf(x:float, a:float, b:float)->float:\n",
    "    sech_term = 1 / np.cosh((x - a) / (2 * b))\n",
    "    return sech_term**2 / (4 * b)\n",
    "\n",
    "def logistic_mean(a:float) ->float:\n",
    "    return a\n",
    "\n",
    "def logistic_variance(b:float) ->float:\n",
    "    return (np.pi**2 * b**2) / 3\n",
    "\n",
    "\n",
    "def inverse_logistic(x:float, a:float, b:float)->float:\n",
    "    return 2 * b * np.arctanh(2 * (x - 0.5)) + a\n",
    "\n",
    "def lojisticdatagenerator(n:int, a:float, b:float)->list:   \n",
    "    generated_data = np.random.uniform(0, 1, n)\n",
    "    dataset = [inverse_logistic(i, a, b) for i in generated_data]\n",
    "    return dataset\n",
    "\n",
    "## FONKSİYON PARAMETRELERİ\n",
    "\n",
    "n=1000\n",
    "a = 0.0  # location parameter\n",
    "b = 1.0  # scale parameter\n",
    "x=lojisticdatagenerator(n,a,b)\n",
    "\n",
    "## ÖRNEKLEM PARAMETRELERİ\n",
    "\n",
    "m1 = np.mean(x)\n",
    "m2 = np.var(x)\n",
    "m3 = scipy.stats.skew(x)\n",
    "m4 = scipy.stats.kurtosis(x)\n",
    "\n",
    "## ANAKÜTLE PARAMETRELERİ\n",
    "\n",
    "M1= logistic_mean(a)\n",
    "M2=logistic_variance(b)\n",
    "\n",
    "print(\"Örneklem parametreleri\")\n",
    "print(\"Ortalama :{:.4f} -Varyans:{:.4f} -çarpıklık: {:.4f} -basıklık :{:.4f}\".format(m1,m2,m3,m4))\n",
    "print(\"Anakütle  parametreleri\")\n",
    "print(\"Ortalama :{:.4f} -Varyans:{:.4f} \".format(M1, M2))\n"
   ]
  },
  {
   "cell_type": "markdown",
   "metadata": {},
   "source": [
    "### Sürekli Dağılımların Kaynakçası\n",
    "\n",
    "Statistical Distributions, Fourth Edition (Catherine Forbes, Merran Evans etc.)(Sürekli dağılımlar)"
   ]
  },
  {
   "cell_type": "markdown",
   "metadata": {},
   "source": [
    "### 2.6)Benford Dağılımı\n",
    "\n",
    "kaynakça:https://www.statisticshowto.com/benford-distribution/"
   ]
  },
  {
   "cell_type": "markdown",
   "metadata": {},
   "source": [
    "$$ f(x)=log_{10}(1+1/x) \\quad x=1,2,...,9  $$\n",
    "$$ F(x)=log_{10}(1+x) \\quad x=1,2,...,9 $$\n",
    "$$F(x)^{-1}=10y-1 $$"
   ]
  },
  {
   "cell_type": "code",
   "execution_count": 8,
   "metadata": {},
   "outputs": [
    {
     "ename": "NameError",
     "evalue": "name 'benford_expected_value' is not defined",
     "output_type": "error",
     "traceback": [
      "\u001b[0;31m---------------------------------------------------------------------------\u001b[0m",
      "\u001b[0;31mNameError\u001b[0m                                 Traceback (most recent call last)",
      "Cell \u001b[0;32mIn[8], line 48\u001b[0m\n\u001b[1;32m     46\u001b[0m m4 \u001b[38;5;241m=\u001b[39m scipy\u001b[38;5;241m.\u001b[39mstats\u001b[38;5;241m.\u001b[39mkurtosis(x)\n\u001b[1;32m     47\u001b[0m \u001b[38;5;66;03m## ANAKÜTLE PARAMETRELERİ\u001b[39;00m\n\u001b[0;32m---> 48\u001b[0m M1\u001b[38;5;241m=\u001b[39m \u001b[43mbenford_expected_value\u001b[49m()\n\u001b[1;32m     49\u001b[0m M2\u001b[38;5;241m=\u001b[39m benford_variance()\n\u001b[1;32m     53\u001b[0m \u001b[38;5;28mprint\u001b[39m(\u001b[38;5;124m\"\u001b[39m\u001b[38;5;124mÖrneklem parametreleri\u001b[39m\u001b[38;5;124m\"\u001b[39m)\n",
      "\u001b[0;31mNameError\u001b[0m: name 'benford_expected_value' is not defined"
     ]
    }
   ],
   "source": [
    "import numpy as np\n",
    "import scipy\n",
    "def benford_F(x:float)->float:\n",
    "    return np.log10(1 + x)\n",
    "\n",
    "def benford_f(x:float)->float:\n",
    "    return np.log10(1 + 1 / x)\n",
    "\n",
    "def benford_inverse_F(x:float)->float:\n",
    "    return 10 *x - 1\n",
    "\n",
    "def benford_mean()->float:\n",
    "    expected_value = 0\n",
    "    for d in range(1, 10):\n",
    "        probability = np.log10(1 + 1 / d)\n",
    "        expected_value += d * probability\n",
    "    return expected_value\n",
    "\n",
    "def benford_variance()->float:\n",
    "    expected_value = benford_expected_value()\n",
    "    variance = 0\n",
    "    for d in range(1, 10):\n",
    "        probability = np.log10(1 + 1 / d)\n",
    "        variance += (d - expected_value) ** 2 * probability\n",
    "    return variance\n",
    "\n",
    "\n",
    "def benforddatagenerator(n:int)->list:   \n",
    "    generated_data = np.random.uniform(0, 1, n)\n",
    "    dataset = [benford_inverse_F(i) for i in generated_data]\n",
    "    return dataset\n",
    "\n",
    "\n",
    "\n",
    "## FONKSİYON PARAMETRELERİ\n",
    "n=9\n",
    "\n",
    "\n",
    "x=benforddatagenerator(n)\n",
    "\n",
    "## ÖRNEKLEM PARAMETRELERİ\n",
    "\n",
    "m1 = np.mean(x)\n",
    "m2 = np.var(x)\n",
    "m3 = scipy.stats.skew(x)\n",
    "m4 = scipy.stats.kurtosis(x)\n",
    "## ANAKÜTLE PARAMETRELERİ\n",
    "M1= benford_expected_value()\n",
    "M2= benford_variance()\n",
    "\n",
    "\n",
    "\n",
    "print(\"Örneklem parametreleri\")\n",
    "print(\"Ortalama :{:.4f} -Varyans:{:.4f} -çarpıklık: {:.4f} -basıklık :{:.4f}\".format(m1,m2,m3,m4))\n",
    "print(\"Anakütle  parametreleri\")\n",
    "print(\"Ortalama :{:.4f} -Varyans:{:.4f} \".format(M1, M2))\n",
    "\n",
    "\n"
   ]
  },
  {
   "cell_type": "markdown",
   "metadata": {},
   "source": [
    "### 2.7)Geometrik Dağılım\n",
    "\n",
    "\n",
    "$$ f(k; p) = (1 - p)^{k-1} \\cdot p \\quad \\text{for } k = 1, 2, 3, \\ldots $$\n",
    "$$ F(k; p) = 1 - (1 - p)^k \\quad \\text{for } k = 1, 2, 3, \\ldots$$\n",
    "$$ F(k; p)^{-1}=ln(1-y)/ln(1-p)  $$\n",
    "$$ E(x)=1/p $$\n",
    "$$ Var(x)=1-p/p^2$$\n",
    "$$ skewness(x)=2-p/\\sqrt(1-p)$$\n",
    "$$ ex kurtosis(x)=6+p^2/(1-p)$$\n"
   ]
  },
  {
   "cell_type": "code",
   "execution_count": null,
   "metadata": {},
   "outputs": [],
   "source": [
    "import math\n",
    "import numpy as np\n",
    "def geometric_pdf(k, p):\n",
    "    return ((1 - p) ** (k - 1)) * p\n",
    "\n",
    "def geometric_cdf(k, p):\n",
    "    return 1 - (1 - p) ** k\n",
    "\n",
    "def geometric_inverse(k,p):\n",
    "     return math.log(1 - k) / math.log(1 - p)\n",
    "    \n",
    "def geometric_mean(p):\n",
    "    return 1 / p\n",
    "\n",
    "def geometric_variance(p):\n",
    "    return (1 - p) / (p ** 2)\n",
    "\n",
    "def geometric_skewness(p):\n",
    "    return (2 - p) / math.sqrt(1 - p)\n",
    "\n",
    "def geometric_ex_kurtosis(p):\n",
    "    return 6 + (p ** 2) / (1 - p)\n",
    "\n",
    "def geometricdatagenerator(n,p):\n",
    "    generated_data = np.random.uniform(0, 1, n)\n",
    "    dataset = [geometric_inverse(i,p) for i in generated_data]\n",
    "    return dataset\n",
    "    \n",
    "    \n",
    "## FONKSİYON PARAMETRELERİ\n",
    "n=1000\n",
    "p_value = 0.3\n",
    "k_value = 5\n",
    "\n",
    "x=geometricdatagenerator(n,p_value)\n",
    "## ÖRNEKLEM PARAMETRELERİ\n",
    "\n",
    "m1 = np.mean(x)\n",
    "m2 = np.var(x)\n",
    "m3 = scipy.stats.skew(x)\n",
    "m4 = scipy.stats.kurtosis(x)\n",
    "## ANAKÜTLE PARAMETRELERİ\n",
    "M1 = geometric_mean(p_value)\n",
    "M2 = geometric_variance(p_value)\n",
    "M3 = geometric_skewness(p_value)\n",
    "M4 = geometric_ex_kurtosis(p_value)\n",
    "\n",
    "\n",
    "\n",
    "\n",
    "print(\"Örneklem parametreleri\")\n",
    "print(\"Ortalama :{:.4f} -Varyans:{:.4f} -çarpıklık: {:.4f} -basıklık :{:.4f}\".format(m1,m2,m3,m4))\n",
    "print(\"Anakütle  parametreleri\")\n",
    "print(\"Ortalama :{:.4f} -Varyans:{:.4f} -çarpıklık: {:.4f} -basıklık :{:.4f}\".format(M1, M2,M3,M4))\n",
    "\n"
   ]
  },
  {
   "cell_type": "markdown",
   "metadata": {},
   "source": [
    "### 2.8)Yule–Simon dağılımın\n",
    "\n",
    "https://www.statisticshowto.com/yule-simon-distribution/\n",
    "\n",
    "\n",
    "https://en.wikipedia.org/wiki/Yule%E2%80%93Simon_distribution"
   ]
  },
  {
   "cell_type": "markdown",
   "metadata": {},
   "source": [
    "$$f(x)=\\rho \\beta(x,\\rho+1) $$\n",
    "$$F(x)=1-x\\beta(x,\\rho+1) $$\n",
    "$$F(x)^{-1}=1-y / \\beta(x,\\rho+1) $$\n",
    "$$ E(x)=\\rho /(\\rho -1) \\quad p>1 $$\n",
    "$$ Var(x)=\\rho /(\\rho -1) \\quad p>2 $$\n",
    "$$ çarpıklık(x)= (\\rho+1)^2 \\sqrt(p-2) /(\\rho-3)\\rho \\quad \\rho>3$$\n",
    "    $$ex curtosis basıklık(x)=\\rho+3+ \\frac{11\\rho^3-49\\rho-22}{(\\rho-4)(\\rho-3)\\rho} \\quad \\rho >4$$"
   ]
  },
  {
   "cell_type": "code",
   "execution_count": null,
   "metadata": {},
   "outputs": [],
   "source": [
    "import numpy as np\n",
    "import scipy.special as sps\n",
    "\n",
    "def yulesimon_pdf(x, rho):\n",
    "    return rho * sps.beta(x, rho + 1)\n",
    "\n",
    "def yulesimon_cdf(x, rho):\n",
    "    return 1 - x * sps.beta(x, rho + 1)\n",
    "\n",
    "def yulesimon_inverse(y, rho):\n",
    "    return (1 - y) / sps.beta(y, rho + 1)\n",
    "\n",
    "def yulesimon_mean(rho):\n",
    "    if rho > 1:\n",
    "        return rho / (rho - 1)\n",
    "    else:\n",
    "        return np.nan\n",
    "\n",
    "def yulesimon_variance(rho):\n",
    "    if rho > 2:\n",
    "        return rho / ((rho - 1) * (rho - 2))\n",
    "    else:\n",
    "        return np.nan\n",
    "\n",
    "def yulesimon_skewness(rho):\n",
    "    if rho > 3:\n",
    "        return ((rho + 1)**2 * np.sqrt(rho - 2)) / ((rho - 3) * rho)\n",
    "    else:\n",
    "        return np.nan\n",
    "\n",
    "def yulesimon_excess_kurtosis(rho):\n",
    "    if rho > 4:\n",
    "        return rho + 3 + (11 * rho**3 - 49 * rho - 22) / ((rho - 4) * (rho - 3) * rho)\n",
    "    else:\n",
    "        return np.nan\n",
    "    \n",
    "    \n",
    "def yulesimondatagenerator(n,rho):   \n",
    "    generated_data = np.random.uniform(0, 1, n)\n",
    "    dataset = [ yulesimon_inverse(i,rho) for i in generated_data]\n",
    "    return dataset\n",
    "\n",
    "## FONKSİYON PARAMETRELERİ\n",
    "rho=5\n",
    "n=10000\n",
    "\n",
    "x=yulesimondatagenerator(n,rho)\n",
    "\n",
    "## ÖRNEKLEM PARAMETRELERİ\n",
    "\n",
    "m1 = np.mean(x)\n",
    "m2 = np.var(x)\n",
    "m3 = scipy.stats.skew(x)\n",
    "m4 = scipy.stats.kurtosis(x)\n",
    "## ANAKÜTLE PARAMETRELERİ\n",
    "M1=yulesimon_mean(rho)\n",
    "M2=yulesimon_variance(rho)\n",
    "M3=yulesimon_skewness(rho)\n",
    "M4=yulesimon_excess_kurtosis(rho)\n",
    "\n",
    "\n",
    "print(\"Örneklem parametreleri\")\n",
    "print(\"Ortalama :{:.4f} -Varyans:{:.4f} -çarpıklık: {:.4f} -basıklık :{:.4f}\".format(m1,m2,m3,m4))\n",
    "print(\"Anakütle  parametreleri\")\n",
    "print(\"Ortalama :{:.4f} -Varyans:{:.4f} -çarpıklık: {:.4f} - basıklık :{:.4f}\".format(M1, M2,M3,M4))\n",
    "    \n",
    "    \n",
    "    \n"
   ]
  },
  {
   "cell_type": "markdown",
   "metadata": {},
   "source": [
    "### 2.9)ZETA dağılımı (BURADA SİMÜLASYON YOK ÖZELLİKLE SORMAK İÇİN EKLEDİM)\n",
    "\n",
    "https://en.wikipedia.org/wiki/Zeta_distribution\n",
    "\n",
    "\n",
    "https://stats.libretexts.org/Bookshelves/Probability_Theory/Probability_Mathematical_Statistics_and_Stochastic_Processes_(Siegrist)/05%3A_Special_Distributions/5.40%3A_The_Zeta_Distribution\n",
    "\n",
    "\n",
    "https://www.randomservices.org/random/special/Zeta.html"
   ]
  },
  {
   "cell_type": "markdown",
   "metadata": {},
   "source": [
    "zeta fonksiyonu :$$\\zeta(a) = \\sum_{n=1}^\\infty \\frac{1}{n^a}, \\quad a \\in (1, \\infty)$$\n",
    "Harmonic fonksiyonu: $$  H_{k,s} \\sum_{n=1}^{k}1/i^s $$"
   ]
  },
  {
   "cell_type": "markdown",
   "metadata": {},
   "source": [
    "$$ f(n)=1/ \\zeta(a)n^a \\quad n \\epsilon N+$$\n",
    "$$ F(n)=H_{(k,s)}/ \\zeta(a) \\quad n \\epsilon N+$$\n",
    "$$ \\E\\left(N^k\\right) = \\frac{\\zeta(a - k)}{\\zeta(a)} $$\n",
    "$$ \\var(N) = \\frac{\\zeta(a - 2)}{\\zeta(a)} - \\left(\\frac{\\zeta(a - 1)}{\\zeta(a)}\\right)^2 $$\n",
    "$$ \\skw(N) = \\frac{\\zeta(a - 3) \\zeta^2(a) - 3 \\zeta(a - 1) \\zeta(a - 2) \\zeta(a) + 2 \\zeta^3(a - 1)}{[\\zeta(a - 2) \\zeta(a) - \\zeta^2(a - 1)]^{3/2}} \\quad a>4 $$\n",
    "$$ \\kur(N) = \\frac{\\zeta(a - 4) \\zeta^3(a) - 4 \\zeta(a - 1) \\zeta(a - 3) \\zeta^2(a) + 6 \\zeta^2(a - 1) \\zeta(a - 2) \\zeta(a) - 3 \\zeta^4(a - 1)}{\\left[\\zeta(a - 2) \\zeta(a) - \\zeta^2(a - 1)\\right]^2} \\quad  a>5 $$\n"
   ]
  },
  {
   "cell_type": "code",
   "execution_count": null,
   "metadata": {},
   "outputs": [],
   "source": [
    "import numpy as np\n",
    "import scipy.special as sps\n",
    "import math\n",
    "def zeta(a:float)->float:\n",
    "    return sps.zeta(a)\n",
    "\n",
    "def hurwitz(k:int, s:float)->float:\n",
    "    return np.sum([1 / n**s for n in range(1, k + 1)])\n",
    "\n",
    "def zeta_pdf(n:int, a:float)->float:\n",
    "    return 1 / (zeta(a) * n**a)\n",
    "\n",
    "def zeta_cdf(k:int, s:float, a:float)->float:\n",
    "    return hurwitz(k, s) / zeta(a)\n",
    "\n",
    "def zeta_mean(a:float, k:int)->float:\n",
    "    return zeta(a - k) / zeta(a)\n",
    "\n",
    "def zeta_variance(a:float)->float:\n",
    "    return zeta(a - 2) / zeta(a) - (zeta(a - 1) / zeta(a))**2\n",
    "\n",
    "def zeta_skewness(a:float)->float:\n",
    "    if a > 4:\n",
    "        numerator = zeta(a - 3) * zeta(a)**2 - 3 * zeta(a - 1) * zeta(a - 2) * zeta(a) + 2 * zeta(a)**3\n",
    "        denominator = (zeta(a - 2) * zeta(a) - zeta(a - 1)**2)**(3 / 2)\n",
    "        return numerator / denominator\n",
    "    else:\n",
    "        return np.nan\n",
    "\n",
    "def zeta_kurtosis(a:float)->float:\n",
    "    if a > 5:\n",
    "        numerator = zeta(a - 4) * zeta(a)**3 - 4 * zeta(a - 1) * zeta(a - 3) * zeta(a)**2 + 6 * zeta(a - 1)**2 * zeta(a - 2) * zeta(a) - 3 * zeta(a)**4\n",
    "        denominator = (zeta(a - 2) * zeta(a) - zeta(a - 1)**2)**2\n",
    "        return numerator / denominator\n",
    "    else:\n",
    "        return np.nan\n",
    "    \n",
    "    \n",
    "    \n"
   ]
  },
  {
   "cell_type": "markdown",
   "metadata": {},
   "source": [
    "### 2.10)Pareto dağılımı\n",
    "https://mathworld.wolfram.com/ParetoDistribution.html\n",
    "https://www.statisticshowto.com/pareto-distribution/\n",
    "https://stats.libretexts.org/Bookshelves/Probability_Theory/Probability_Mathematical_Statistics_and_Stochastic_Processes_(Siegrist)/05%3A_Special_Distributions/5.36%3A_The_Pareto_Distribution"
   ]
  },
  {
   "cell_type": "markdown",
   "metadata": {},
   "source": [
    "$$ f(x)= ab^a/x^{a+1}$$\n",
    "$$F(x)=1-{(b/x)^a}$$ \n",
    "$$F(x)^{-1}=b/(a\\sqrt{1-y}) $$\n",
    "$$ quantile(p)=1/{(1-p^{1/a}))} $$\n",
    "$$\\mu=ab/a-1 $$\n",
    "$$\\sigma^2=ab^2/(a-1)^2(a-2) $$\n",
    "$$ skew(x)=\\sqrt{(a-2)/a }. 2(a+1)/a-3$$\n",
    "$$ kurt(x)=6(a^3+a^2-6a-2)/a(a-3)(a-4) $$"
   ]
  },
  {
   "cell_type": "code",
   "execution_count": null,
   "metadata": {},
   "outputs": [],
   "source": [
    "import numpy as np\n",
    "import scipy\n",
    "def f(x, a, b):\n",
    "    return a * b**a / x**(a + 1)\n",
    "\n",
    "def F(x, a, b):\n",
    "    return 1 - (b / x)**a\n",
    "\n",
    "def inverse_F(y, a, b):\n",
    "    return b / math.pow(np.sqrt(1 - y), a)\n",
    "\n",
    "def quantile(p, a):\n",
    "    return 1 / (1 - p ** (1 / a))\n",
    "\n",
    "def mean(a:float, b:float):\n",
    "    return (a * b) / (a - 1)\n",
    "\n",
    "def variance(a:float, b:float):\n",
    "    return (a * (b**2) )/( ((a - 1)**2 * (a - 2)))\n",
    "\n",
    "def skewness(a:float):\n",
    "    return np.sqrt((a - 2) / a) * 2 * (a + 1) / (a - 3)\n",
    "\n",
    "def kurtosis(a:float)->float:\n",
    "    return 6 * (a**3 + a**2 - 6*a - 2) / (a * (a - 3) * (a - 4))\n",
    "\n",
    "\n",
    "def paretodatagenerator(n:int,a:float,b:float)->list:   \n",
    "    generated_data = np.random.uniform(0, 1, n)\n",
    "    dataset = [ quantile(i,a) for i in generated_data]\n",
    "    return dataset\n",
    "\n",
    "## FONKSİYON PARAMETRELERİ\n",
    "\n",
    "n=9\n",
    "a=7\n",
    "b=5\n",
    "x=paretodatagenerator(n,a,b)\n",
    "\n",
    "## ÖRNEKLEM PARAMETRELERİ\n",
    "\n",
    "m1 = np.mean(x)\n",
    "m2 = np.var(x)\n",
    "m3 = scipy.stats.skew(x)\n",
    "m4 = scipy.stats.kurtosis(x)\n",
    "## ANAKÜTLE PARAMETRELERİ\n",
    "M1=mean(a, b)\n",
    "M2=variance(a, b)\n",
    "M3=skewness(a)\n",
    "M4=kurtosis(a)\n",
    "\n",
    "\n",
    "print(\"Örneklem parametreleri\")\n",
    "print(\"Ortalama :{:.4f} -Varyans:{:.4f} -çarpıklık: {:.4f} -basıklık :{:.4f}\".format(m1,m2,m3,m4))\n",
    "print(\"Anakütle  parametreleri\")\n",
    "print(\"Ortalama :{:.4f} -Varyans:{:.4f} -çarpıklık: {:.4f} - basıklık :{:.4f}\".format(M1, M2,M3,M4))"
   ]
  },
  {
   "cell_type": "markdown",
   "metadata": {},
   "source": [
    "https://www.statisticshowto.com/probability-and-statistics/statistics-definitions/probability-distribution/#az\n",
    "\n",
    "\n",
    "https://stats.libretexts.org/Bookshelves/Probability_Theory/Probability_Mathematical_Statistics_and_Stochastic_Processes_(Siegrist)/05%3A_Special_Distributions\n",
    "\n"
   ]
  }
 ],
 "metadata": {
  "kernelspec": {
   "display_name": "Python 3 (ipykernel)",
   "language": "python",
   "name": "python3"
  },
  "language_info": {
   "codemirror_mode": {
    "name": "ipython",
    "version": 3
   },
   "file_extension": ".py",
   "mimetype": "text/x-python",
   "name": "python",
   "nbconvert_exporter": "python",
   "pygments_lexer": "ipython3",
   "version": "3.10.12"
  }
 },
 "nbformat": 4,
 "nbformat_minor": 2
}
