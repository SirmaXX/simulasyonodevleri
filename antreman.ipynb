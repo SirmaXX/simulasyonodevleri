{
 "cells": [
  {
   "cell_type": "markdown",
   "metadata": {},
   "source": [
    "# <center> DENİZ BALCI SİMÜLASYON 1.ÖDEVİ</center>"
   ]
  },
  {
   "cell_type": "markdown",
   "metadata": {},
   "source": [
    "# 0)  Paket Kurulumu ve Ön açıklama"
   ]
  },
  {
   "cell_type": "markdown",
   "metadata": {},
   "source": [
    "Bütün hücreleri ayrı ayrı veya bütün halde çalıştırabilirsiniz.İlk olarak paketleri yükleyelim."
   ]
  },
  {
   "cell_type": "code",
   "execution_count": 1,
   "metadata": {},
   "outputs": [
    {
     "name": "stdout",
     "output_type": "stream",
     "text": [
      "Requirement already satisfied: scipy in /home/deniz/.pyenv/versions/3.11.2/lib/python3.11/site-packages (1.10.1)\n",
      "Requirement already satisfied: numpy<1.27.0,>=1.19.5 in /home/deniz/.pyenv/versions/3.11.2/lib/python3.11/site-packages (from scipy) (1.25.2)\n",
      "\n",
      "\u001b[1m[\u001b[0m\u001b[34;49mnotice\u001b[0m\u001b[1;39;49m]\u001b[0m\u001b[39;49m A new release of pip available: \u001b[0m\u001b[31;49m22.3.1\u001b[0m\u001b[39;49m -> \u001b[0m\u001b[32;49m24.0\u001b[0m\n",
      "\u001b[1m[\u001b[0m\u001b[34;49mnotice\u001b[0m\u001b[1;39;49m]\u001b[0m\u001b[39;49m To update, run: \u001b[0m\u001b[32;49mpip install --upgrade pip\u001b[0m\n",
      "Requirement already satisfied: numpy in /home/deniz/.pyenv/versions/3.11.2/lib/python3.11/site-packages (1.25.2)\n",
      "\n",
      "\u001b[1m[\u001b[0m\u001b[34;49mnotice\u001b[0m\u001b[1;39;49m]\u001b[0m\u001b[39;49m A new release of pip available: \u001b[0m\u001b[31;49m22.3.1\u001b[0m\u001b[39;49m -> \u001b[0m\u001b[32;49m24.0\u001b[0m\n",
      "\u001b[1m[\u001b[0m\u001b[34;49mnotice\u001b[0m\u001b[1;39;49m]\u001b[0m\u001b[39;49m To update, run: \u001b[0m\u001b[32;49mpip install --upgrade pip\u001b[0m\n"
     ]
    }
   ],
   "source": [
    "!pip install scipy\n",
    "!pip install numpy"
   ]
  },
  {
   "cell_type": "markdown",
   "metadata": {},
   "source": [
    "## 1)Lineer kongrüans üreteçler"
   ]
  },
  {
   "cell_type": "code",
   "execution_count": 2,
   "metadata": {},
   "outputs": [
    {
     "name": "stdout",
     "output_type": "stream",
     "text": [
      "[21, 57, 69, 73, 41, 97, 49, 33, 61, 37, 29, 93, 81, 77, 9, 53, 1, 17, 89, 13, 21, 57, 69, 73, 41, 97, 49, 33, 61, 37, 29, 93, 81, 77, 9, 53, 1, 17, 89, 13, 21, 57, 69, 73, 41, 97, 49, 33, 61, 37, 29, 93, 81, 77, 9, 53, 1, 17, 89, 13, 21, 57, 69, 73, 41, 97, 49, 33, 61, 37, 29, 93, 81, 77, 9, 53, 1, 17, 89, 13, 21, 57, 69, 73, 41, 97, 49, 33, 61, 37, 29, 93, 81, 77, 9, 53, 1, 17, 89, 13]\n"
     ]
    }
   ],
   "source": [
    "def linearkong(seed,a,b,m):\n",
    "    generated_numbers=[]\n",
    "    for i in range(0,m):\n",
    "      x=(a*seed+b)%m\n",
    "      seed=x\n",
    "      generated_numbers.append(seed)\n",
    "    return generated_numbers\n",
    "\n",
    "print(linearkong(13,17,0,100))"
   ]
  },
  {
   "cell_type": "markdown",
   "metadata": {},
   "source": [
    "Ödevimizde 5 kesikli 5 sürekli dağılımın simülasyon hazırlanması istenilmişti."
   ]
  },
  {
   "cell_type": "markdown",
   "metadata": {},
   "source": [
    "### 2.Binomdan dağılım üretmek"
   ]
  },
  {
   "cell_type": "code",
   "execution_count": 45,
   "metadata": {},
   "outputs": [
    {
     "name": "stdout",
     "output_type": "stream",
     "text": [
      "[2, 4, 4, 2, 3, 1, 4, 3, 7, 4, 4, 4, 4, 1, 1, 1, 0, 5, 4, 6]\n"
     ]
    }
   ],
   "source": [
    "import numpy as np\n",
    "\n",
    "# Bernoulli denemesi fonksiyonu\n",
    "\n",
    "def bernoulli(p):\n",
    "    x = np.random.uniform(0, 1)\n",
    "    return 1 if x < p else 0\n",
    "\n",
    "# Tek bir binom denemesinden başarı sayısını hesaplayan fonksiyon\n",
    "\n",
    "\n",
    "def binom_value_generator(n, p):\n",
    "    successes = 0\n",
    "    for i in range(n):\n",
    "        successes += bernoulli(p)\n",
    "    return successes\n",
    "\n",
    "# Birden fazla binom denemesi sonucu üreten fonksiyon\n",
    "\n",
    "\n",
    "def binom_generator(n_trials, n, p):\n",
    "    binomvalues = []\n",
    "    for i in range(n_trials):\n",
    "        binomvalues.append(binom_value_generator(n, p))\n",
    "    return binomvalues\n",
    "\n",
    "\n",
    "# Test etme\n",
    "# 20 adet, her biri 10 denemeden oluşan binom verisi üretir\n",
    "print(binom_generator(20, 10, 0.3))"
   ]
  },
  {
   "cell_type": "markdown",
   "metadata": {},
   "source": [
    "# 3.negatif binom"
   ]
  },
  {
   "cell_type": "code",
   "execution_count": 82,
   "metadata": {},
   "outputs": [
    {
     "name": "stdout",
     "output_type": "stream",
     "text": [
      "[42, 25, 28, 25, 40, 25, 32, 47, 27, 22, 25, 24, 43, 39, 48, 39, 44, 31, 29, 42]\n"
     ]
    }
   ],
   "source": [
    "import numpy as np\n",
    "\n",
    "\n",
    "def geometrik(p):\n",
    "    U = np.random.uniform(0, 1)\n",
    "    x = np.ceil(np.log(1 - U) / np.log(1 - p))\n",
    "    return int(x)\n",
    "\n",
    "# Negatif binom dağılımından değer üreten fonksiyon\n",
    "\n",
    "\n",
    "def nbinom_value_generator(k, p):\n",
    "    trials = 0\n",
    "    for _ in range(k):\n",
    "        trials += geometrik(p)\n",
    "    return trials\n",
    "\n",
    "# Birden fazla negatif binom dağılımı sonucu üreten fonksiyon\n",
    "\n",
    "\n",
    "def nbinom_generator(n, k, p):\n",
    "    nbinom = []\n",
    "    for _ in range(n):\n",
    "        nbinom.append(nbinom_value_generator(k, p))\n",
    "    return nbinom\n",
    "\n",
    "\n",
    "# Test etme\n",
    "# 20 adet, her biri 10 başarıya ulaşmak için gereken deneme sayısını üretir\n",
    "print(nbinom_generator(20, 10, 0.3))\n",
    "\n"
   ]
  },
  {
   "cell_type": "code",
   "execution_count": 85,
   "metadata": {},
   "outputs": [
    {
     "name": "stdout",
     "output_type": "stream",
     "text": [
      "[21, 57, 69, 73, 41, 97, 49, 33, 61, 37, 29, 93, 81, 77, 9, 53, 1, 17, 89, 13, 21, 57, 69, 73, 41, 97, 49, 33, 61, 37, 29, 93, 81, 77, 9, 53, 1, 17, 89, 13, 21, 57, 69, 73, 41, 97, 49, 33, 61, 37, 29, 93, 81, 77, 9, 53, 1, 17, 89, 13, 21, 57, 69, 73, 41, 97, 49, 33, 61, 37, 29, 93, 81, 77, 9, 53, 1, 17, 89, 13, 21, 57, 69, 73, 41, 97, 49, 33, 61, 37, 29, 93, 81, 77, 9, 53, 1, 17, 89, 13]\n"
     ]
    }
   ],
   "source": [
    "def lineer_kong(seed,a,b,m):\n",
    "    generated_number=[]\n",
    "    for i in range(0,m):\n",
    "        #a *seed +b nin m ike bölümünden modu\n",
    "        x=(a*seed+b)%m \n",
    "        seed=x\n",
    "        generated_number.append(x)\n",
    "    return generated_number\n",
    "\n",
    "\n",
    "print(lineer_kong(13, 17,0,100))"
   ]
  },
  {
   "cell_type": "markdown",
   "metadata": {},
   "source": [
    "# Box müller"
   ]
  },
  {
   "cell_type": "code",
   "execution_count": 142,
   "metadata": {},
   "outputs": [
    {
     "name": "stdout",
     "output_type": "stream",
     "text": [
      "[0.18590785715595737, -0.2718212101243407, -0.4585234149579512, 0.5855259225371382, -0.3967744962330804, 0.7157360103075071, -2.3542274213342678, 0.2902396493324237, -0.9571133269935647, 1.0455367973231966]\n"
     ]
    }
   ],
   "source": [
    "import numpy as np\n",
    "import numpy.random as rd\n",
    "from scipy import stats\n",
    "import matplotlib.pyplot as plt\n",
    "\n",
    "\n",
    "def f(theta, E):\n",
    "    return np.cos(theta) * np.sqrt(2 * E)\n",
    "\n",
    "\n",
    "def BoxMuller(N, mu=0, sigma=1):\n",
    "    samples=[]\n",
    "    for _ in range(N):\n",
    "        theta = rd.uniform(low=0, high=2 * np.pi, size=1)\n",
    "        E = rd.exponential(scale=1, size=1)\n",
    "        X = f(theta, E)[0]\n",
    "        samples.append(X)\n",
    "       # out[i] = mu + X * sigma\n",
    "       \n",
    "\n",
    "    return samples\n",
    "\n",
    "\n",
    "def normaldist(x, mu, sigma):\n",
    "    return 1 / np.sqrt(2 * np.pi * sigma**2) * np.exp(-(x - mu)**2 / (2 * sigma**2))\n",
    "\n",
    "\n",
    "\n",
    "X = BoxMuller(10, mu=0, sigma=1)\n",
    "print(X)"
   ]
  },
  {
   "cell_type": "markdown",
   "metadata": {},
   "source": [
    "# KABUL RED YÖNTEMİ"
   ]
  },
  {
   "cell_type": "code",
   "execution_count": 127,
   "metadata": {},
   "outputs": [
    {
     "name": "stdout",
     "output_type": "stream",
     "text": [
      "Kabul Oranı: 0.34\n"
     ]
    }
   ],
   "source": [
    "import numpy as np\n",
    "from scipy.special import gamma\n",
    "\n",
    "\n",
    "def exponential_dist(x, lambdaa):\n",
    "    return (1 / lambdaa) * np.exp(-x / lambdaa)\n",
    "\n",
    "\n",
    "def gamma_dist(x, alpha, beta):\n",
    "    return (1 / gamma(alpha) * (beta ** alpha)) * np.exp(-x / beta) * (x ** (alpha - 1))\n",
    "\n",
    "\n",
    "def find_c(N, lambdaa):\n",
    "    datasett = np.random.uniform(0, 1, N)\n",
    "    generated_values = []\n",
    "    for i in datasett:\n",
    "        valuee = gamma_dist(i, 1, 1) / exponential_dist(i, lambdaa)\n",
    "        generated_values.append(valuee)\n",
    "    return np.max(generated_values)\n",
    "\n",
    "\n",
    "kabuldataset = []\n",
    "n = 100  # Örneklem boyutunu artırdım\n",
    "for i in range(n):\n",
    "    v = np.random.exponential(1)\n",
    "    u = np.random.uniform(0, 1)\n",
    "    gv = exponential_dist(v, 1)\n",
    "    fv = gamma_dist(v, 1, 4)\n",
    "    c = find_c(n, 1)\n",
    "    value = fv / (c * gv)\n",
    "    if u < value:\n",
    "        kabuldataset.append(value)\n",
    "\n",
    "kabul_orani = len(kabuldataset) / n\n",
    "print(f\"Kabul Oranı: {kabul_orani}\")"
   ]
  },
  {
   "cell_type": "markdown",
   "metadata": {},
   "source": [
    "# ADAPTİF KABUL RED"
   ]
  },
  {
   "cell_type": "code",
   "execution_count": 151,
   "metadata": {},
   "outputs": [
    {
     "data": {
      "image/png": "[encoded data removed]",
      "text/plain": [
       "<Figure size 640x480 with 1 Axes>"
      ]
     },
     "metadata": {},
     "output_type": "display_data"
    }
   ],
   "source": [
    "import matplotlib.pyplot as plt\n",
    "import numpy as np\n",
    "\n",
    "\n",
    "def target_distribution(x):\n",
    "    # Hedef dağılımın belirlenmesi, örneğin normal dağılım\n",
    "    mean = 3\n",
    "    std_dev = 1\n",
    "    return np.exp(-0.5 * ((x - mean) / std_dev)**2) / (std_dev * np.sqrt(2 * np.pi))\n",
    "\n",
    "\n",
    "def sample_from_proposal(proposal_distribution, bounds):\n",
    "    # Öneri dağılımından bir örnek seçmek için metropolis-hastings yöntemi kullanılıyor.\n",
    "    x = np.random.uniform(bounds[0], bounds[1])\n",
    "    y = np.random.uniform(0, proposal_distribution(x))\n",
    "    if y <= target_distribution(x):\n",
    "        return x\n",
    "    return None\n",
    "\n",
    "\n",
    "def adaptive_rejection_sampling(N, bounds, initial_points):\n",
    "    # Adaptif reddetme örnekleme algoritması\n",
    "    samples = []\n",
    "    support_points = sorted(initial_points)\n",
    "\n",
    "    W = calculate_piecewise_linear(support_points)\n",
    "\n",
    "    while len(samples) < N:\n",
    "        # Öneri dağılımının oluşturulması\n",
    "        def proposal_distribution(x): return np.exp(-W(x))\n",
    "\n",
    "        # Öneri dağılımından örnek alınması\n",
    "        sample = sample_from_proposal(proposal_distribution, bounds)\n",
    "\n",
    "        if sample is not None:\n",
    "            samples.append(sample)\n",
    "            # Reddedilen örneklerin öneri dağılımını güncellemesi\n",
    "            support_points.append(sample)\n",
    "            support_points.sort()\n",
    "\n",
    "        # Güncellenmiş öneri dağılımının hesaplanması\n",
    "        W = calculate_piecewise_linear(support_points)\n",
    "\n",
    "    return samples\n",
    "\n",
    "\n",
    "def calculate_piecewise_linear(support_points):\n",
    "    # Parçalı doğrusal fonksiyonun hesaplanması\n",
    "    slopes = []\n",
    "    intercepts = []\n",
    "\n",
    "    for i in range(1, len(support_points)):\n",
    "        x1, x2 = support_points[i-1], support_points[i]\n",
    "        m = (target_distribution(x2) - target_distribution(x1)) / (x2 - x1)\n",
    "        b = target_distribution(x1) - m * x1\n",
    "        slopes.append(m)\n",
    "        intercepts.append(b)\n",
    "\n",
    "    return lambda x: min(m * x + b for m, b in zip(slopes, intercepts))\n",
    "\n",
    "\n",
    "# Örnek kullanım\n",
    "N = 100  # Kaç tane örnek alınacağı\n",
    "bounds = (0, 6)  # Örnekleme alanının sınırları\n",
    "initial_points = [1, 2, 4, 5]  # Başlangıç noktaları\n",
    "\n",
    "samples = adaptive_rejection_sampling(N, bounds, initial_points)\n",
    "\n",
    "# Örneklerin görselleştirilmesi\n",
    "\n",
    "x = np.linspace(bounds[0], bounds[1], 1000)\n",
    "plt.plot(x, target_distribution(x), label='Target Distribution')\n",
    "plt.hist(samples, bins=30, density=True, alpha=0.6, color='g', label='Samples')\n",
    "plt.legend()\n",
    "plt.show()"
   ]
  }
 ],
 "metadata": {
  "kernelspec": {
   "display_name": "Python 3 (ipykernel)",
   "language": "python",
   "name": "python3"
  },
  "language_info": {
   "codemirror_mode": {
    "name": "ipython",
    "version": 3
   },
   "file_extension": ".py",
   "mimetype": "text/x-python",
   "name": "python",
   "nbconvert_exporter": "python",
   "pygments_lexer": "ipython3",
   "version": "3.11.2"
  }
 },
 "nbformat": 4,
 "nbformat_minor": 2
}
