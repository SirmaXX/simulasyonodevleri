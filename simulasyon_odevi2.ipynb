{
 "cells": [
  {
   "cell_type": "markdown",
   "metadata": {},
   "source": [
    "# <center> DENİZ BALCI SİMÜLASYON 2.ÖDEVİ</center>"
   ]
  },
  {
   "cell_type": "markdown",
   "metadata": {},
   "source": [
    "# 0)  Paket Kurulumu ve Ön açıklama"
   ]
  },
  {
   "cell_type": "markdown",
   "metadata": {},
   "source": [
    "Bütün hücreleri ayrı ayrı veya bütün halde çalıştırabilirsiniz.İlk olarak paketleri yükleyelim."
   ]
  },
  {
   "cell_type": "code",
   "execution_count": 1,
   "metadata": {},
   "outputs": [
    {
     "name": "stdout",
     "output_type": "stream",
     "text": [
      "Defaulting to user installation because normal site-packages is not writeable\n",
      "Requirement already satisfied: scipy in /home/deniz/.local/lib/python3.10/site-packages (1.10.1)\n",
      "Requirement already satisfied: numpy<1.27.0,>=1.19.5 in /home/deniz/.local/lib/python3.10/site-packages (from scipy) (1.23.1)\n",
      "\n",
      "\u001b[1m[\u001b[0m\u001b[34;49mnotice\u001b[0m\u001b[1;39;49m]\u001b[0m\u001b[39;49m A new release of pip is available: \u001b[0m\u001b[31;49m23.3.1\u001b[0m\u001b[39;49m -> \u001b[0m\u001b[32;49m24.0\u001b[0m\n",
      "\u001b[1m[\u001b[0m\u001b[34;49mnotice\u001b[0m\u001b[1;39;49m]\u001b[0m\u001b[39;49m To update, run: \u001b[0m\u001b[32;49mpython3 -m pip install --upgrade pip\u001b[0m\n",
      "Defaulting to user installation because normal site-packages is not writeable\n",
      "Requirement already satisfied: numpy in /home/deniz/.local/lib/python3.10/site-packages (1.23.1)\n",
      "\n",
      "\u001b[1m[\u001b[0m\u001b[34;49mnotice\u001b[0m\u001b[1;39;49m]\u001b[0m\u001b[39;49m A new release of pip is available: \u001b[0m\u001b[31;49m23.3.1\u001b[0m\u001b[39;49m -> \u001b[0m\u001b[32;49m24.0\u001b[0m\n",
      "\u001b[1m[\u001b[0m\u001b[34;49mnotice\u001b[0m\u001b[1;39;49m]\u001b[0m\u001b[39;49m To update, run: \u001b[0m\u001b[32;49mpython3 -m pip install --upgrade pip\u001b[0m\n"
     ]
    }
   ],
   "source": [
    "!pip install scipy\n",
    "!pip install numpy\n",
    "!pip install matplotlib"
   ]
  },
  {
   "cell_type": "markdown",
   "metadata": {},
   "source": [
    "## SORU 1\n",
    "\n",
    "\n",
    "Belirli bir hızla hareket eden bir aracın fren mesafesi metre cinsinden X rasgele değişkeni ile gösterilsin. X’in dağılım fonksiyonunun\n",
    "\n",
    "\n",
    " \\begin{equation}\n",
    " F(x) =\n",
    "   \\left\\{\\begin{array}{lr}\n",
    "       0, & x \\le 3 \\\\\n",
    "      \\frac{x^2-6x+9}{4}  & 3 < x < 5 \\\\\n",
    "      1 & x \\ge 5\n",
    "    \\end{array}\\right.\n",
    " \\end{equation}\n",
    " \n",
    " \n",
    "<ol style=\"list-style-type: lower-alpha;\">\n",
    "  <li>Aracın en fazla 2m'de durabilme olasılığı  <p style=\"color:red\"> !   SORUDAKİ HATA ŞU SINIRLAR 3 ile 5 arasında ancak 2 de durabilme olasılığında soruyorsunuz.</p> </li>\n",
    "  <li>Aracın %90 olasılıkla durabilmesi için fren mesafesinin alt sınırını simülasyon teknikleri yardımıyla bulunuz.</li>\n",
    "\n",
    "</ol> "
   ]
  },
  {
   "cell_type": "markdown",
   "metadata": {},
   "source": [
    " İlk olarak elimizdeki dağılımın özelliklerini ve ters dönüşüme sahip olup olmadığını inceleyelim.\n",
    " \n",
    " \\begin{equation}\n",
    " f(x) =\n",
    "   \\left\\{\\begin{array}{lr}\n",
    "      \\frac{2x-6}{4}  & 3 < x < 5 \\\\\n",
    "    \\end{array}\\right.\n",
    " \\end{equation}\n",
    "  \\begin{equation}\n",
    " F^{-1}(x) =\n",
    "   \\left\\{\\begin{array}{lr}\n",
    "      \\sqrt{4y}+3  & 0 < x <1 \\\\\n",
    "    \\end{array}\\right.\n",
    " \\end{equation}\n",
    " \n",
    " \n",
    " $$ E(x)=4.33 \\quad  Var(x)=39.17$$\n",
    " \n",
    " Görüldüğü gibi ters dönüşüm fonksiyonunu kullanabiliriz."
   ]
  },
  {
   "cell_type": "code",
   "execution_count": 32,
   "metadata": {},
   "outputs": [
    {
     "name": "stdout",
     "output_type": "stream",
     "text": [
      "A sorusunun yanıtı 2 metreden az olma olasılığı \n",
      "\n",
      "0.0\n",
      "\n",
      "\n",
      "B Aracın %90 olasılıkla durabilmesi için fren mesafesinin alt sınırı \n",
      "\n",
      "4.888214260815366\n",
      "\n",
      "\n"
     ]
    }
   ],
   "source": [
    "import numpy as np\n",
    "import scipy.stats\n",
    "import math\n",
    "\n",
    "def ters_fonksiyon(p:float)->float:\n",
    "    assert 0 <= p <= 1 \n",
    "    sonuc=np.sqrt(4*p)+3\n",
    "    return sonuc\n",
    "\n",
    "\n",
    "def veri_üretici(n: int)->list:\n",
    "    assert n > 0\n",
    "    uniform_dataset = np.random.uniform(0, 1, n)\n",
    "    dataset = [ters_fonksiyon(i) for i in uniform_dataset]\n",
    "    sorted_dataset = sorted(dataset)  # Sort the dataset\n",
    "    return sorted_dataset\n",
    "    \n",
    "\n",
    "def oran(lookingvalue:float,veriseti)->float:\n",
    "    n =len(veriseti)\n",
    "    ratio = sum(value <lookingvalue for value in veriseti)/n\n",
    "    return ratio\n",
    "    \n",
    "\n",
    "\n",
    "    \n",
    "n = int(100)\n",
    "p = 0.90\n",
    "num_samples = int(n * p)\n",
    "veriseti=veri_üretici(n)    \n",
    "\n",
    "print(\"A sorusunun yanıtı 2 metreden az olma olasılığı \\n\")\n",
    "print(oran(2,veriseti))\n",
    "print(\"\\n\")\n",
    "\n",
    "print(\"B Aracın %90 olasılıkla durabilmesi için fren mesafesinin alt sınırı \\n\")\n",
    "print(veriseti[num_samples])\n",
    "print(\"\\n\")\n",
    "\n",
    "\n"
   ]
  },
  {
   "cell_type": "markdown",
   "metadata": {},
   "source": [
    "## SORU 2\n",
    "\n",
    "\n",
    "Kabul-Red yöntemini açıklayınız ve bir tane hem ters dönüşüm tekniği,hem kabul red yöntemi ile veri üretebileceğiniz dağılım bulunuz.\n",
    "n=10,50,100,1000 örneklem büyükleri için örneklem ortalaması ve anakütle ortalaması değerleri ile karşılaştırınız.\n",
    "\n"
   ]
  },
  {
   "cell_type": "markdown",
   "metadata": {},
   "source": [
    "### Kabul red yöntemi\n",
    "Kabul red yöntemi ters dönüşüm uygulayamadığımız durumlarda kullanılan bir methoddur. Bu metodda, bir olasılık yoğunluk fonksiyonunu simule etmek için ek olarak bilinen başka bir fonksiyon üzerinden  oranlayarak kabul bölgesi oluşturduğumuz bir yapıdır.\n",
    "\n",
    "\n",
    "\\begin{equation}\n",
    "u \\le \\frac{f(x)}{c*g(x)}\n",
    "\\end{equation}"
   ]
  },
  {
   "cell_type": "markdown",
   "metadata": {},
   "source": [
    "<center><img src=\"img/ikinciodev/kabuleksik.png\" alt=\"MarineGEO circle logo\" style=\"height: 500px; width:1000px;\"/>\n",
    "\n",
    "YUKARIDAKİ GRAFİKTE MOR ALANLAR RED EDİLEN ALANLARDIR.\n",
    "\n",
    "\n",
    "YEŞİL ALAN HİPOTEZİN  KABUL EDİLEN ALANLARDIR.\n",
    "\n",
    "\n",
    "\n",
    "</center>\n",
    "\n",
    "### ÖRNEĞİMİZE DÖNELİM\n"
   ]
  },
  {
   "cell_type": "code",
   "execution_count": 25,
   "metadata": {},
   "outputs": [],
   "source": [
    "import numpy as np\n",
    "import scipy.stats\n",
    "import math\n",
    "import matplotlib.pyplot as plt\n",
    "\n",
    "def inverse_F(x, lambdaa):\n",
    "    return -lambdaa * math.log(1 - x)\n",
    "\n",
    "\n",
    "def ters_veri_üretici(n: int, lambdaa)->list:\n",
    "    assert n > 0\n",
    "    uniform_dataset = np.random.uniform(0, 1, n)\n",
    "    dataset = [inverse_F(i, lambdaa) for i in uniform_dataset]\n",
    "    sorted_dataset = sorted(dataset)  # Sort the dataset\n",
    "    return sorted_dataset\n",
    "\n",
    "\n",
    "def f(x, lambdaa):\n",
    "    return (1/ lambdaa) * np.exp(-x/ lambdaa)\n",
    "\n",
    "c = 1\n",
    "\n",
    "def g(x):\n",
    "    return 0.5 * np.exp(-x * 0.5)\n",
    "\n",
    "def AR(N, lambdaa):\n",
    "    x = np.array([])\n",
    "    Y = np.random.exponential(lambdaa, 1)\n",
    "    U = np.random.uniform(0, 1, 1)\n",
    "    #print(f(Y,lambdaa) / (c * f(Y,lambdaa)))\n",
    "    for i in range(N):\n",
    "        while True:\n",
    "            Y = np.random.exponential(lambdaa, 1)\n",
    "            U = np.random.uniform(0, 1, 1)\n",
    "            if U <= f(Y,2) / (c * g(Y)):\n",
    "                x = np.append(x, Y)\n",
    "                break\n",
    "    return x  \n",
    "\n",
    "\n"
   ]
  },
  {
   "cell_type": "code",
   "execution_count": 31,
   "metadata": {},
   "outputs": [
    {
     "name": "stdout",
     "output_type": "stream",
     "text": [
      "                  10        50        100       1000\n",
      "kabul-red     3.567954  1.313683  4.077318  4.087985\n",
      "ters dönüşüm  4.947460  3.666313  3.370973  4.246830\n"
     ]
    }
   ],
   "source": [
    "lambdaa=4\n",
    "n1=10\n",
    "n2=50\n",
    "n3=100\n",
    "n4=1000\n",
    "import pandas as pd\n",
    "\n",
    "\n",
    "\n",
    "table = [[np.mean(AR(n1, lambdaa)), np.mean(AR(n1, lambdaa)), np.mean(AR(n3, lambdaa)), np.mean(AR(n4, lambdaa))],\n",
    "         [np.mean(ters_veri_üretici(n1, lambdaa)), np.mean(ters_veri_üretici(n2, lambdaa)),\n",
    "          np.mean(ters_veri_üretici(n3, lambdaa))\n",
    "          , np.mean(ters_veri_üretici(n4, lambdaa))]]\n",
    "df = pd.DataFrame(table, columns = [10,50,100,1000], index=['kabul-red', 'ters dönüşüm'])\n",
    "\n",
    "print(df)\n"
   ]
  },
  {
   "cell_type": "markdown",
   "metadata": {},
   "source": [
    "## SORU 3\n",
    "Poisson $(\\theta)$) dağılımından veri üretecek\n",
    "<ol style=\"list-style-type: lower-alpha;\">\n",
    "  <li>$P(X \\leq x )$</li>\n",
    " <li>$P(X = x )$</li>\n",
    "<li>$P(X \\ge x )$</li>\n",
    "</ol> \n",
    "olasılıklarını bulan  bir program yazınız.Burada $\\theta$ ve x değeri girdi olarak kullanıcıdan istenilecek."
   ]
  },
  {
   "cell_type": "markdown",
   "metadata": {},
   "source": [
    "## 1.YOL "
   ]
  },
  {
   "cell_type": "code",
   "execution_count": 2,
   "metadata": {},
   "outputs": [
    {
     "name": "stdout",
     "output_type": "stream",
     "text": [
      "P(X <= 5) = 0.1804470443154836\n",
      "P(X = 5)  = 0.03608940886309672\n",
      "P(X > 5)  = 0.8195529556845164\n"
     ]
    }
   ],
   "source": [
    "import math\n",
    "\n",
    "class Poisson:\n",
    "  def __init__(self,x,theta):\n",
    "     self.theta=theta\n",
    "     self.x=x\n",
    "     \n",
    "  def poisson(self):\n",
    "      result= (math.exp(-self.theta)*(self.theta **self.x))/math.factorial(self.x)\n",
    "      return result\n",
    "  \n",
    "  def littleeq(self):\n",
    "     result = 0\n",
    "     for i in range(0,self.x):\n",
    "        result=result+self.poisson()\n",
    "     return result\n",
    "  \n",
    "  def biggerthan(self):\n",
    "     return 1-self.littleeq()\n",
    "  \n",
    "\n",
    "x=5\n",
    "theta=2\n",
    "p1 = Poisson(x, theta)\n",
    "cdf = p1.littleeq()\n",
    "print(\"P(X <= 5) =\", cdf)\n",
    "print(\"P(X = 5)  =\", p1.poisson())\n",
    "print(\"P(X > 5)  =\", p1.biggerthan())"
   ]
  },
  {
   "cell_type": "markdown",
   "metadata": {},
   "source": [
    "## 2.YOL \n",
    "\n",
    "Notlardaki yol"
   ]
  },
  {
   "cell_type": "code",
   "execution_count": 47,
   "metadata": {},
   "outputs": [
    {
     "name": "stdout",
     "output_type": "stream",
     "text": [
      "3\n"
     ]
    }
   ],
   "source": [
    "import math\n",
    "import random\n",
    "\n",
    "def poisson(lambd):\n",
    "    a = math.exp(-lambd)\n",
    "    b = 1\n",
    "    i = 0\n",
    "    \n",
    "    while True:\n",
    "        ri_plus_1 = random.uniform(0, 1)\n",
    "        b *= ri_plus_1\n",
    "        \n",
    "        if b < a:\n",
    "            x = i\n",
    "            break\n",
    "        \n",
    "        i += 1\n",
    "    \n",
    "    return x\n",
    "\n",
    "# Örnek kullanım:\n",
    "lambd = 2  # Poisson dağılımın lambda değeri\n",
    "print(poisson(lambd))\n"
   ]
  },
  {
   "cell_type": "code",
   "execution_count": null,
   "metadata": {},
   "outputs": [],
   "source": []
  }
 ],
 "metadata": {
  "kernelspec": {
   "display_name": "Python 3 (ipykernel)",
   "language": "python",
   "name": "python3"
  },
  "language_info": {
   "codemirror_mode": {
    "name": "ipython",
    "version": 3
   },
   "file_extension": ".py",
   "mimetype": "text/x-python",
   "name": "python",
   "nbconvert_exporter": "python",
   "pygments_lexer": "ipython3",
   "version": "3.10.12"
  }
 },
 "nbformat": 4,
 "nbformat_minor": 2
}
